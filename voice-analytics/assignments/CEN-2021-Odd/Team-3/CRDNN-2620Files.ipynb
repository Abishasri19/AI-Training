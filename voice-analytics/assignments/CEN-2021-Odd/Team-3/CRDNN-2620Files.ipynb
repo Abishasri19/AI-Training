{
 "cells": [
  {
   "cell_type": "code",
   "execution_count": 2,
   "id": "c3f328df",
   "metadata": {},
   "outputs": [
    {
     "name": "stdout",
     "output_type": "stream",
     "text": [
      "40\n"
     ]
    }
   ],
   "source": [
    "import os\n",
    "folders = os.listdir(\"LibriSpeech/test-clean\")\n",
    "print(len(folders))"
   ]
  },
  {
   "cell_type": "code",
   "execution_count": 3,
   "id": "9ed13878",
   "metadata": {},
   "outputs": [
    {
     "data": {
      "text/plain": [
       "2620"
      ]
     },
     "execution_count": 3,
     "metadata": {},
     "output_type": "execute_result"
    }
   ],
   "source": [
    "test_path=\"test1.txt\"\n",
    "with open(test_path) as test:\n",
    "          refs = test.readlines()\n",
    "len(refs)"
   ]
  },
  {
   "cell_type": "code",
   "execution_count": 4,
   "id": "308d91b1",
   "metadata": {},
   "outputs": [],
   "source": [
    "# import torchaudio\n",
    "# torchaudio.set_audio_backend(\"sox_io\")\n",
    "from speechbrain.pretrained import EncoderDecoderASR\n",
    "\n",
    "asr_model = EncoderDecoderASR.from_hparams(source=\"speechbrain/asr-crdnn-rnnlm-librispeech\")\n"
   ]
  },
  {
   "cell_type": "code",
   "execution_count": 14,
   "id": "0b4a1627",
   "metadata": {},
   "outputs": [],
   "source": [
    "transcribe_files = []\n",
    "original = []\n",
    "\n",
    "path = \"LibriSpeech/test-clean/\"\n",
    "for i in os.listdir(path):\n",
    "    for j in os.listdir(path+i):\n",
    "        for k in os.listdir(path+i+\"/\"+j):\n",
    "            if k.endswith(\".flac\"):\n",
    "                transcribe_files.append(asr_model.transcribe_file(path+i+\"/\"+j+\"/\"+k))\n",
    "            else:\n",
    "                with open(path+i+\"/\"+j+\"/\"+k) as test:\n",
    "                    original.append(test.readlines())"
   ]
  },
  {
   "cell_type": "code",
   "execution_count": 32,
   "id": "82679ce0",
   "metadata": {},
   "outputs": [
    {
     "data": {
      "text/plain": [
       "(2620, 2620)"
      ]
     },
     "execution_count": 32,
     "metadata": {},
     "output_type": "execute_result"
    }
   ],
   "source": [
    "len(transcribe_files),len(refs),"
   ]
  },
  {
   "cell_type": "code",
   "execution_count": 34,
   "id": "edcd882b",
   "metadata": {},
   "outputs": [
    {
     "name": "stdout",
     "output_type": "stream",
     "text": [
      "WER Score: 0.042827560240963854\n"
     ]
    }
   ],
   "source": [
    "from jiwer import wer\n",
    "\n",
    "wer_score = wer(refs, transcribe_files, standardize=True)    # \"standardize\" expands abbreviations\n",
    "print(\"WER Score:\", wer_score)"
   ]
  },
  {
   "cell_type": "code",
   "execution_count": null,
   "id": "53b8fb3b",
   "metadata": {},
   "outputs": [],
   "source": []
  }
 ],
 "metadata": {
  "kernelspec": {
   "display_name": "Python 3",
   "language": "python",
   "name": "python3"
  },
  "language_info": {
   "codemirror_mode": {
    "name": "ipython",
    "version": 3
   },
   "file_extension": ".py",
   "mimetype": "text/x-python",
   "name": "python",
   "nbconvert_exporter": "python",
   "pygments_lexer": "ipython3",
   "version": "3.8.8"
  }
 },
 "nbformat": 4,
 "nbformat_minor": 5
}
