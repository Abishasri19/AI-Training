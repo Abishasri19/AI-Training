{
  "nbformat": 4,
  "nbformat_minor": 0,
  "metadata": {
    "colab": {
      "name": "Data_preprocessing.ipynb",
      "provenance": [],
      "collapsed_sections": []
    },
    "kernelspec": {
      "name": "python3",
      "display_name": "Python 3"
    },
    "language_info": {
      "name": "python"
    }
  },
  "cells": [
    {
      "cell_type": "code",
      "execution_count": null,
      "metadata": {
        "colab": {
          "base_uri": "https://localhost:8080/"
        },
        "id": "nKK0qrBaFuSH",
        "outputId": "9b6b9889-f0cf-42c9-8615-18511fce0bb5"
      },
      "outputs": [
        {
          "output_type": "stream",
          "name": "stdout",
          "text": [
            "--2021-12-14 08:56:08--  https://us.openslr.org/resources/12/test-clean.tar.gz\n",
            "Resolving us.openslr.org (us.openslr.org)... 46.101.158.64\n",
            "Connecting to us.openslr.org (us.openslr.org)|46.101.158.64|:443... connected.\n",
            "HTTP request sent, awaiting response... 200 OK\n",
            "Length: 346663984 (331M) [application/x-gzip]\n",
            "Saving to: ‘test-clean.tar.gz’\n",
            "\n",
            "test-clean.tar.gz   100%[===================>] 330.60M  27.3MB/s    in 13s     \n",
            "\n",
            "2021-12-14 08:56:21 (26.0 MB/s) - ‘test-clean.tar.gz’ saved [346663984/346663984]\n",
            "\n"
          ]
        }
      ],
      "source": [
        "!wget \"https://us.openslr.org/resources/12/test-clean.tar.gz\""
      ]
    },
    {
      "cell_type": "code",
      "source": [
        "!tar -xf test-clean.tar.gz"
      ],
      "metadata": {
        "id": "htTeOIL5J795"
      },
      "execution_count": null,
      "outputs": []
    },
    {
      "cell_type": "code",
      "source": [
        "import os\n",
        "import shutil"
      ],
      "metadata": {
        "id": "Yidu4uDwKRma"
      },
      "execution_count": null,
      "outputs": []
    },
    {
      "cell_type": "code",
      "source": [
        "os.makedirs(\"dataset/audio\")\n",
        "os.makedirs(\"dataset/text\")"
      ],
      "metadata": {
        "id": "Q5nRpih2Mv8k"
      },
      "execution_count": null,
      "outputs": []
    },
    {
      "cell_type": "code",
      "source": [
        "for i in os.listdir(\"/content/LibriSpeech/test-clean\"):\n",
        "  for j in os.listdir(\"/content/LibriSpeech/test-clean/\"+i):\n",
        "    for k in os.listdir(\"/content/LibriSpeech/test-clean/\"+i+\"/\"+j):\n",
        "      if k.endswith(\".flac\"):\n",
        "        shutil.move(\"/content/LibriSpeech/test-clean/\"+i+\"/\"+j+\"/\"+k,\"dataset/audio/\"+k)\n",
        "      if k.endswith(\".txt\"):\n",
        "        shutil.move(\"/content/LibriSpeech/test-clean/\"+i+\"/\"+j+\"/\"+k,\"dataset/text/\"+k)"
      ],
      "metadata": {
        "id": "-YHdTRF9KeUq"
      },
      "execution_count": null,
      "outputs": []
    },
    {
      "cell_type": "code",
      "source": [
        "len(os.listdir(\"/content/dataset/audio\"))"
      ],
      "metadata": {
        "colab": {
          "base_uri": "https://localhost:8080/"
        },
        "id": "HoruUnnBaRUu",
        "outputId": "2f9940c0-5290-4e16-a3b4-69e7984debb0"
      },
      "execution_count": null,
      "outputs": [
        {
          "output_type": "execute_result",
          "data": {
            "text/plain": [
              "2620"
            ]
          },
          "metadata": {},
          "execution_count": 20
        }
      ]
    },
    {
      "cell_type": "code",
      "source": [
        "len(os.listdir(\"/content/dataset/text\"))"
      ],
      "metadata": {
        "colab": {
          "base_uri": "https://localhost:8080/"
        },
        "id": "UnVcip7Vab_3",
        "outputId": "a6e76196-42c6-4b1b-d501-23c58a41d320"
      },
      "execution_count": null,
      "outputs": [
        {
          "output_type": "execute_result",
          "data": {
            "text/plain": [
              "87"
            ]
          },
          "metadata": {},
          "execution_count": 22
        }
      ]
    }
  ]
}