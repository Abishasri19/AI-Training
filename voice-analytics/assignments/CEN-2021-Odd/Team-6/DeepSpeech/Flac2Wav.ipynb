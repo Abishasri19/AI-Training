{
 "cells": [
  {
   "cell_type": "code",
   "execution_count": 1,
   "id": "81cc1d55",
   "metadata": {},
   "outputs": [],
   "source": [
    "import os\n",
    "import re"
   ]
  },
  {
   "cell_type": "code",
   "execution_count": 2,
   "id": "f5000c18",
   "metadata": {},
   "outputs": [
    {
     "name": "stdout",
     "output_type": "stream",
     "text": [
      "/home/anish\n"
     ]
    }
   ],
   "source": [
    "!source $HOME/tmp/deepspeech-venv/bin/activate\n",
    "%cd"
   ]
  },
  {
   "cell_type": "code",
   "execution_count": 13,
   "id": "eae04cf0",
   "metadata": {},
   "outputs": [
    {
     "data": {
      "text/plain": [
       "['5142-36586-0000.wav',\n",
       " '5142-36586-0001.wav',\n",
       " '5142-36586-0002.wav',\n",
       " '5142-36586-0003.wav',\n",
       " '5142-36586-0004.wav']"
      ]
     },
     "execution_count": 13,
     "metadata": {},
     "output_type": "execute_result"
    }
   ],
   "source": [
    "dirs=os.listdir(\"miss/\")\n",
    "#for i in dirs:\n",
    "#    os.listdir(\"Test_WAV/\"+i)\n",
    "sorted(dirs)"
   ]
  },
  {
   "cell_type": "code",
   "execution_count": 14,
   "id": "1556a866",
   "metadata": {},
   "outputs": [],
   "source": [
    "#with open(\"order.txt\",\"w\") as f:\n",
    "#    for i in file_list:\n",
    "#        f.write(\"%s\\n\" %i)"
   ]
  },
  {
   "cell_type": "code",
   "execution_count": 15,
   "id": "2e653a5c",
   "metadata": {},
   "outputs": [
    {
     "data": {
      "text/plain": [
       "['5142-36586-0000.wav',\n",
       " '5142-36586-0001.wav',\n",
       " '5142-36586-0002.wav',\n",
       " '5142-36586-0003.wav',\n",
       " '5142-36586-0004.wav']"
      ]
     },
     "execution_count": 15,
     "metadata": {},
     "output_type": "execute_result"
    }
   ],
   "source": [
    "file_list=sorted(os.listdir(\"miss/\"))\n",
    "file_list"
   ]
  },
  {
   "cell_type": "code",
   "execution_count": 16,
   "id": "9452bbfb",
   "metadata": {},
   "outputs": [
    {
     "data": {
      "text/plain": [
       "5"
      ]
     },
     "execution_count": 16,
     "metadata": {},
     "output_type": "execute_result"
    }
   ],
   "source": [
    "len(file_list)"
   ]
  },
  {
   "cell_type": "code",
   "execution_count": 3,
   "id": "1cceabb5",
   "metadata": {},
   "outputs": [
    {
     "data": {
      "text/plain": [
       "'2300-131720-0023'"
      ]
     },
     "execution_count": 3,
     "metadata": {},
     "output_type": "execute_result"
    }
   ],
   "source": [
    "file_list[0][:-5]"
   ]
  },
  {
   "cell_type": "code",
   "execution_count": 5,
   "id": "566fef77",
   "metadata": {},
   "outputs": [],
   "source": [
    "for i in file_list:\n",
    "    os.system('ffmpeg -i Test_Flac/'+ i +' Test_WAV/'+i[:-5]+'.wav')"
   ]
  },
  {
   "cell_type": "markdown",
   "id": "fe19a816",
   "metadata": {},
   "source": [
    "The below line needs to be run after the pip install deepspeech has been replaced with the file we changed. It will let the model load the weights once and then save the inference in a text file"
   ]
  },
  {
   "cell_type": "code",
   "execution_count": 17,
   "id": "601cc710",
   "metadata": {},
   "outputs": [],
   "source": [
    "for i in file_list:\n",
    "    os.system('deepspeech --model deepspeech-0.9.3-models.pbmm --audio miss/{}'.format(i))"
   ]
  }
 ],
 "metadata": {
  "kernelspec": {
   "display_name": "Python 3",
   "language": "python",
   "name": "python3"
  },
  "language_info": {
   "codemirror_mode": {
    "name": "ipython",
    "version": 3
   },
   "file_extension": ".py",
   "mimetype": "text/x-python",
   "name": "python",
   "nbconvert_exporter": "python",
   "pygments_lexer": "ipython3",
   "version": "3.8.8"
  }
 },
 "nbformat": 4,
 "nbformat_minor": 5
}
