{
 "cells": [
  {
   "cell_type": "markdown",
   "id": "d270e538",
   "metadata": {},
   "source": [
    "# Chatbots"
   ]
  },
  {
   "cell_type": "markdown",
   "id": "c3477c79",
   "metadata": {},
   "source": [
    "![Chatbot](imgs/1.webp)"
   ]
  },
  {
   "cell_type": "markdown",
   "id": "57a59a86",
   "metadata": {},
   "source": [
    "# How does it works?"
   ]
  },
  {
   "cell_type": "markdown",
   "id": "7650f73c",
   "metadata": {},
   "source": [
    "![HowDoesitWorks](imgs/2.webp)"
   ]
  },
  {
   "cell_type": "markdown",
   "id": "70f4cc59",
   "metadata": {},
   "source": [
    "# Where we can use it?"
   ]
  },
  {
   "cell_type": "markdown",
   "id": "7d6c9c1c",
   "metadata": {},
   "source": [
    "#### Banking\n",
    "![Banking](imgs/3.png)"
   ]
  },
  {
   "cell_type": "markdown",
   "id": "fb12ddd2",
   "metadata": {},
   "source": [
    "#### Retail\n",
    "![Retail](imgs/4.png)"
   ]
  },
  {
   "cell_type": "markdown",
   "id": "e5113976",
   "metadata": {},
   "source": [
    "#### Insurance\n",
    "\n",
    "![](imgs/5.png)"
   ]
  },
  {
   "cell_type": "markdown",
   "id": "e0dd53e7",
   "metadata": {},
   "source": [
    "#### E-Commerce\n",
    "\n",
    "![](imgs/6.jpeg)"
   ]
  },
  {
   "cell_type": "markdown",
   "id": "47271b9b",
   "metadata": {},
   "source": [
    "#### Healthcare\n",
    "\n",
    "![](imgs/7.png)"
   ]
  },
  {
   "cell_type": "markdown",
   "id": "9afbddec",
   "metadata": {},
   "source": [
    "# What needs to be extracted?"
   ]
  },
  {
   "cell_type": "markdown",
   "id": "cd6c8017",
   "metadata": {},
   "source": [
    "![](imgs/9.webp)  |  ![](imgs/10.png)"
   ]
  },
  {
   "cell_type": "markdown",
   "id": "4642b25e",
   "metadata": {},
   "source": [
    "![](imgs/11.jpeg)"
   ]
  },
  {
   "cell_type": "markdown",
   "id": "868aa9d7",
   "metadata": {},
   "source": [
    "#### Utterances, Intents, Entities"
   ]
  },
  {
   "cell_type": "markdown",
   "id": "03f6578c",
   "metadata": {},
   "source": [
    "![](imgs/13.png)"
   ]
  },
  {
   "cell_type": "markdown",
   "id": "c52633fa",
   "metadata": {},
   "source": [
    "![](imgs/12.jpeg)"
   ]
  },
  {
   "cell_type": "markdown",
   "id": "b54bd019",
   "metadata": {},
   "source": [
    "# Chatbot Design Consideration"
   ]
  },
  {
   "cell_type": "markdown",
   "id": "d3cb6f1b",
   "metadata": {},
   "source": [
    "![](imgs/14.jpeg)"
   ]
  }
 ],
 "metadata": {
  "kernelspec": {
   "display_name": "Python 3 (ipykernel)",
   "language": "python",
   "name": "python3"
  },
  "language_info": {
   "codemirror_mode": {
    "name": "ipython",
    "version": 3
   },
   "file_extension": ".py",
   "mimetype": "text/x-python",
   "name": "python",
   "nbconvert_exporter": "python",
   "pygments_lexer": "ipython3",
   "version": "3.9.12"
  }
 },
 "nbformat": 4,
 "nbformat_minor": 5
}
