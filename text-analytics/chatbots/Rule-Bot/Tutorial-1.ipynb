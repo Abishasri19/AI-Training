{
 "cells": [
  {
   "cell_type": "code",
   "execution_count": null,
   "metadata": {},
   "outputs": [],
   "source": [
    "!pip install aiml"
   ]
  },
  {
   "cell_type": "code",
   "execution_count": null,
   "metadata": {},
   "outputs": [],
   "source": [
    "import aiml\n",
    "import time\n",
    "time.clock = time.time"
   ]
  },
  {
   "cell_type": "code",
   "execution_count": null,
   "metadata": {},
   "outputs": [],
   "source": [
    "kernel = aiml.Kernel()"
   ]
  },
  {
   "cell_type": "markdown",
   "metadata": {},
   "source": [
    "# Hello World!"
   ]
  },
  {
   "cell_type": "markdown",
   "metadata": {},
   "source": [
    "```\n",
    "<category>\n",
    "    <pattern>Hello</pattern>\n",
    "    <template>\n",
    "        Hello Human!\n",
    "    </template>\n",
    "</category>\n",
    "```"
   ]
  },
  {
   "cell_type": "markdown",
   "metadata": {},
   "source": [
    "| S.No. |                            AIML Tag / Description                            |\n",
    "|-------|:----------------------------------------------------------------------------:|\n",
    "|   1   | ```<aiml>``` Defines the beginning and end of a AIML document.                     |\n",
    "|   2   | ```<category>``` Defines the unit of knowledge in Alicebot's knowledge base.       |\n",
    "|   3   | ```<pattern>``` Defines the pattern to match what a user may input to an Alicebot. |\n",
    "|   4   | ```<template>``` Defines the response of an Alicebot to user's input.              |"
   ]
  },
  {
   "cell_type": "code",
   "execution_count": null,
   "metadata": {},
   "outputs": [],
   "source": [
    "kernel.learn(\"std-startup.xml\")\n",
    "kernel.respond(\"load aiml b\")\n",
    "while True:\n",
    "    input_text = input(\">Human: \")\n",
    "    response = kernel.respond(input_text)\n",
    "    print(\">AIML-Bot: \"+response)"
   ]
  },
  {
   "cell_type": "code",
   "execution_count": null,
   "metadata": {},
   "outputs": [],
   "source": []
  },
  {
   "cell_type": "markdown",
   "metadata": {},
   "source": [
    "# Random Response"
   ]
  },
  {
   "cell_type": "markdown",
   "metadata": {},
   "source": [
    "```\n",
    "<category>\n",
    "    <pattern>Hello</pattern>\n",
    "    <template>\n",
    "        <random>\n",
    "            <li>Hello!</li>\n",
    "            <li>Well hello there.</li>\n",
    "            <li>Howdy.</li>\n",
    "            <li>Good day.</li>\n",
    "            <li>Hi, friend.</li>\n",
    "        </random>\n",
    "    </template>\n",
    "</category>\n",
    "```"
   ]
  },
  {
   "cell_type": "markdown",
   "metadata": {},
   "source": [
    "| S.No. |                                             AIML Tag / Description                                             |\n",
    "|-------|:--------------------------------------------------------------------------------------------------------------:|\n",
    "|   1   | ```<star>``` Used to match wild card * character(s) in the ```<pattern>``` Tag.                                  |\n",
    "|   2   | ```<srai>``` Multipurpose tag, used to call/match the other categories.                                              |\n",
    "|   3   | ```<random>``` Used to get random responses.                                                                |\n",
    "|   4   | ```<li>``` Used to represent multiple responses.                                                                     |\n",
    "|   5   | ```<set>``` Used to set value in an AIML variable.                                                                   |\n",
    "|   6   | ```<get>``` Used to get value stored in an AIML variable.                                                            |\n",
    "|   7   | ```<that>``` Used in AIML to respond based on the context.                                                           |\n",
    "|   8   | ```<topic>``` Used in AIML to store a context so that later conversation can be done based on that context.          |\n",
    "|   9   | ```<think>``` Used in AIML to store a variable without notifying the user.                                           |\n",
    "|   10  | ```<condition>``` Similar to switch statements in programming language. It helps to respond to matching input. |"
   ]
  },
  {
   "cell_type": "code",
   "execution_count": null,
   "metadata": {},
   "outputs": [],
   "source": [
    "kernel = aiml.Kernel()\n",
    "kernel.learn(\"std-startup.xml\")\n",
    "kernel.respond(\"load aiml b\")\n",
    "while True:\n",
    "    input_text = input(\">Human: \")\n",
    "    response = kernel.respond(input_text)\n",
    "    print(\">AIML-Bot: \"+response)"
   ]
  },
  {
   "cell_type": "markdown",
   "metadata": {},
   "source": [
    "# Varying Input - Using Wildcards *"
   ]
  },
  {
   "cell_type": "markdown",
   "metadata": {},
   "source": [
    "```\n",
    "<category>\n",
    "    <pattern>Hello *</pattern>\n",
    "    <template>\n",
    "        <random>\n",
    "            <li>Hello!</li>\n",
    "            <li>Well hello there.</li>\n",
    "            <li>Howdy.</li>\n",
    "            <li>Good day.</li>\n",
    "            <li>Hi, friend.</li>\n",
    "        </random>\n",
    "    </template>\n",
    "</category>\n",
    "```"
   ]
  },
  {
   "cell_type": "code",
   "execution_count": null,
   "metadata": {},
   "outputs": [],
   "source": [
    "kernel = aiml.Kernel()\n",
    "kernel.learn(\"std-startup.xml\")\n",
    "kernel.respond(\"load aiml b\")\n",
    "while True:\n",
    "    input_text = input(\">Human: \")\n",
    "    response = kernel.respond(input_text)\n",
    "    print(\">AIML-Bot: \"+response)"
   ]
  },
  {
   "cell_type": "markdown",
   "metadata": {},
   "source": [
    "# Taking Inputs - Using Wildcards * and ```<star>```"
   ]
  },
  {
   "cell_type": "markdown",
   "metadata": {},
   "source": [
    "```\n",
    "<category>\n",
    "   <pattern>I am from *</pattern>\n",
    "   \n",
    "   <template>\n",
    "      What is your role in <star/>?\n",
    "   </template>\n",
    "   \n",
    "</category>\n",
    "```"
   ]
  },
  {
   "cell_type": "code",
   "execution_count": null,
   "metadata": {},
   "outputs": [],
   "source": [
    "kernel = aiml.Kernel()\n",
    "kernel.learn(\"std-startup.xml\")\n",
    "kernel.respond(\"load aiml b\")\n",
    "while True:\n",
    "    input_text = input(\">Human: \")\n",
    "    response = kernel.respond(input_text)\n",
    "    print(\">AIML-Bot: \"+response)"
   ]
  },
  {
   "cell_type": "markdown",
   "metadata": {},
   "source": [
    "```\n",
    "<category>\n",
    "   <pattern> I am * I am from * </pattern>\n",
    "\n",
    "   <template>\n",
    "      You are <star index = \"1\"/> from <star index = \"2\"/>?\n",
    "   </template>\n",
    "\n",
    "</category>\n",
    "```"
   ]
  },
  {
   "cell_type": "code",
   "execution_count": null,
   "metadata": {},
   "outputs": [],
   "source": [
    "kernel = aiml.Kernel()\n",
    "kernel.learn(\"std-startup.xml\")\n",
    "kernel.respond(\"load aiml b\")\n",
    "while True:\n",
    "    input_text = input(\">Human: \")\n",
    "    response = kernel.respond(input_text)\n",
    "    print(\">AIML-Bot: \"+response)"
   ]
  },
  {
   "cell_type": "markdown",
   "metadata": {},
   "source": [
    "# Handling pattern variation"
   ]
  },
  {
   "cell_type": "markdown",
   "metadata": {},
   "source": [
    "```\n",
    "<category>\n",
    "      <pattern> WHO IS ALBERT EINSTEIN </pattern>\n",
    "      <template>Albert Einstein was a German physicist.</template>\n",
    "   </category>\n",
    "   \n",
    "   <category>\n",
    "      <pattern> WHO IS Isaac NEWTON </pattern>\n",
    "      <template>Isaac Newton was a English physicist and mathematician.</template>\n",
    "   </category>\n",
    "   \n",
    "   <category>\n",
    "      <pattern>DO YOU KNOW WHO * IS</pattern>\n",
    "      <template>\n",
    "         <srai>WHO IS <star/></srai>\n",
    "      </template>\n",
    "   </category>\n",
    "  ```"
   ]
  },
  {
   "cell_type": "code",
   "execution_count": null,
   "metadata": {},
   "outputs": [],
   "source": [
    "kernel = aiml.Kernel()\n",
    "kernel.learn(\"std-startup.xml\")\n",
    "kernel.respond(\"load aiml b\")\n",
    "while True:\n",
    "    input_text = input(\">Human: \")\n",
    "    response = kernel.respond(input_text)\n",
    "    print(\">AIML-Bot: \"+response)"
   ]
  },
  {
   "cell_type": "markdown",
   "metadata": {},
   "source": [
    "# Handling Variables"
   ]
  },
  {
   "cell_type": "markdown",
   "metadata": {},
   "source": [
    "```\n",
    "<category>\n",
    "      <pattern>I am *</pattern>\n",
    "      <template>\n",
    "         Hello <set name = \"username\"> <star/>! </set>\n",
    "      </template>  \n",
    "   </category>  \n",
    "   \n",
    "   <category>\n",
    "      <pattern>Good Night</pattern>\n",
    "      <template>\n",
    "         Hi <get name = \"username\"/> Thanks for the conversation!\n",
    "      </template>  \n",
    "   </category> \n",
    "```"
   ]
  },
  {
   "cell_type": "code",
   "execution_count": null,
   "metadata": {},
   "outputs": [],
   "source": [
    "kernel = aiml.Kernel()\n",
    "kernel.learn(\"std-startup.xml\")\n",
    "kernel.respond(\"load aiml b\")\n",
    "while True:\n",
    "    input_text = input(\">Human: \")\n",
    "    response = kernel.respond(input_text)\n",
    "    print(\">AIML-Bot: \"+response)"
   ]
  },
  {
   "cell_type": "markdown",
   "metadata": {},
   "source": [
    "# In Memory Variables"
   ]
  },
  {
   "cell_type": "markdown",
   "metadata": {},
   "source": [
    "```\n",
    "<category>\n",
    "      <pattern>My name is *</pattern>\n",
    "      <template>\n",
    "         Hello!<think><set name = \"username\"> <star/></set></think>\n",
    "      </template>\n",
    "   </category>\n",
    "\n",
    "   <category>\n",
    "      <pattern>Byeee</pattern>\n",
    "      <template>\n",
    "         Hi <get name = \"username\"/> Thanks for the conversation!\n",
    "      </template>\n",
    "   </category>\n",
    "```"
   ]
  },
  {
   "cell_type": "code",
   "execution_count": null,
   "metadata": {},
   "outputs": [],
   "source": [
    "kernel = aiml.Kernel()\n",
    "kernel.learn(\"std-startup.xml\")\n",
    "kernel.respond(\"load aiml b\")\n",
    "while True:\n",
    "    input_text = input(\">Human: \")\n",
    "    response = kernel.respond(input_text)\n",
    "    print(\">AIML-Bot: \"+response)"
   ]
  },
  {
   "cell_type": "code",
   "execution_count": null,
   "metadata": {},
   "outputs": [],
   "source": []
  }
 ],
 "metadata": {
  "kernelspec": {
   "display_name": "Python 3 (ipykernel)",
   "language": "python",
   "name": "python3"
  },
  "language_info": {
   "codemirror_mode": {
    "name": "ipython",
    "version": 3
   },
   "file_extension": ".py",
   "mimetype": "text/x-python",
   "name": "python",
   "nbconvert_exporter": "python",
   "pygments_lexer": "ipython3",
   "version": "3.9.12"
  },
  "vscode": {
   "interpreter": {
    "hash": "082d69e2c9dbd47664e878288080279e03a8b4a4317d5d9754d01bed24486437"
   }
  }
 },
 "nbformat": 4,
 "nbformat_minor": 2
}
