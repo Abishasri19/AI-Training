{
 "cells": [
  {
   "cell_type": "markdown",
   "metadata": {},
   "source": [
    "![](imgs/1.png)"
   ]
  },
  {
   "cell_type": "markdown",
   "metadata": {},
   "source": [
    "![](imgs/2.png)"
   ]
  },
  {
   "cell_type": "markdown",
   "metadata": {},
   "source": [
    "![](imgs/3.png)"
   ]
  },
  {
   "cell_type": "markdown",
   "metadata": {},
   "source": [
    "![](imgs/4.png)"
   ]
  },
  {
   "cell_type": "markdown",
   "metadata": {},
   "source": [
    "![](imgs/5.png)"
   ]
  },
  {
   "cell_type": "code",
   "execution_count": null,
   "metadata": {},
   "outputs": [],
   "source": [
    "from google.colab import drive\n",
    "drive.mount('/content/drive/')"
   ]
  },
  {
   "cell_type": "code",
   "execution_count": null,
   "metadata": {
    "colab": {
     "base_uri": "https://localhost:8080/",
     "height": 1000
    },
    "id": "JaCzY6Lq-TdO",
    "outputId": "3d992c5c-b15e-49a4-8ae0-348951507004"
   },
   "outputs": [],
   "source": [
    "!pip install rasa==1.10.3"
   ]
  },
  {
   "cell_type": "code",
   "execution_count": null,
   "metadata": {
    "colab": {
     "base_uri": "https://localhost:8080/"
    },
    "id": "2gsEq3JZ-X2N",
    "outputId": "f1deee69-264d-421c-963b-f5a36f2679fc"
   },
   "outputs": [],
   "source": [
    "!pip install -U tables==3.6.1"
   ]
  },
  {
   "cell_type": "code",
   "execution_count": null,
   "metadata": {
    "colab": {
     "base_uri": "https://localhost:8080/",
     "height": 713
    },
    "id": "1QTG6dKM_GUN",
    "outputId": "b089d00b-4530-424e-c9b6-14592bc42625"
   },
   "outputs": [],
   "source": [
    "!pip install -U ipython"
   ]
  },
  {
   "cell_type": "code",
   "execution_count": null,
   "metadata": {
    "colab": {
     "base_uri": "https://localhost:8080/"
    },
    "id": "SlhqD4dC_LcU",
    "outputId": "4efd8642-182b-4251-dd32-dbd46345d12d"
   },
   "outputs": [],
   "source": [
    "!python -m spacy download en"
   ]
  },
  {
   "cell_type": "code",
   "execution_count": null,
   "metadata": {
    "colab": {
     "base_uri": "https://localhost:8080/"
    },
    "id": "hw5a6YzD_P8c",
    "outputId": "1474fdb2-fd47-454f-a7ae-5119059a8447"
   },
   "outputs": [],
   "source": [
    "!pip install nest_asyncio==1.3.3"
   ]
  },
  {
   "cell_type": "code",
   "execution_count": null,
   "metadata": {
    "colab": {
     "base_uri": "https://localhost:8080/"
    },
    "id": "9VZr0l6__Svj",
    "outputId": "b9af428a-f706-417f-adc0-834ae5f2020d"
   },
   "outputs": [],
   "source": [
    "import os\n",
    "import rasa\n",
    "import nest_asyncio\n",
    "\n",
    "nest_asyncio.apply()\n",
    "print(\"Event loop ready.\")"
   ]
  },
  {
   "cell_type": "code",
   "execution_count": null,
   "metadata": {
    "id": "PaBLw3Kp_db3"
   },
   "outputs": [],
   "source": [
    "from rasa.cli.scaffold import create_initial_project"
   ]
  },
  {
   "cell_type": "code",
   "execution_count": null,
   "metadata": {
    "id": "-CqLRbPZ_ges"
   },
   "outputs": [],
   "source": [
    "project = \"test-project\"\n",
    "create_initial_project(project)"
   ]
  },
  {
   "cell_type": "code",
   "execution_count": null,
   "metadata": {
    "colab": {
     "base_uri": "https://localhost:8080/"
    },
    "id": "SvTmQ81W_jm1",
    "outputId": "63ff7c55-201b-45f6-bb2d-f3ea36eee253"
   },
   "outputs": [],
   "source": [
    "os.chdir(project)\n",
    "print(os.listdir(\".\"))"
   ]
  },
  {
   "cell_type": "code",
   "execution_count": null,
   "metadata": {
    "colab": {
     "base_uri": "https://localhost:8080/"
    },
    "id": "JDs2m-RO_p08",
    "outputId": "04ae4df1-bae2-4759-9269-ce6fe56c26ea"
   },
   "outputs": [],
   "source": [
    "config = \"config.yml\"\n",
    "training_files = \"data/\"\n",
    "domain = \"domain.yml\"\n",
    "output = \"models/\"\n",
    "print(config, training_files, domain, output)"
   ]
  },
  {
   "cell_type": "code",
   "execution_count": null,
   "metadata": {
    "colab": {
     "base_uri": "https://localhost:8080/"
    },
    "id": "WsFkEIwc_uFk",
    "outputId": "a662df92-cf26-4a78-faf6-c82265e5dae6"
   },
   "outputs": [],
   "source": [
    "model_path = rasa.train(domain, config, [training_files], output)\n",
    "print(model_path)"
   ]
  },
  {
   "cell_type": "markdown",
   "metadata": {},
   "source": [
    "![](imgs/6.png)"
   ]
  },
  {
   "cell_type": "code",
   "execution_count": null,
   "metadata": {
    "colab": {
     "base_uri": "https://localhost:8080/",
     "height": 998
    },
    "id": "3E8XYkYn_2jU",
    "outputId": "cf582a6b-a41f-458d-de38-00e533a07aba"
   },
   "outputs": [],
   "source": [
    "from rasa.jupyter import chat\n",
    "\n",
    "endpoints = 'endpoints.yml'\n",
    "\n",
    "chat(model_path, endpoints)\n"
   ]
  }
 ],
 "metadata": {
  "colab": {
   "provenance": []
  },
  "kernelspec": {
   "display_name": "Python 3 (ipykernel)",
   "language": "python",
   "name": "python3"
  },
  "language_info": {
   "codemirror_mode": {
    "name": "ipython",
    "version": 3
   },
   "file_extension": ".py",
   "mimetype": "text/x-python",
   "name": "python",
   "nbconvert_exporter": "python",
   "pygments_lexer": "ipython3",
   "version": "3.9.12"
  }
 },
 "nbformat": 4,
 "nbformat_minor": 1
}
