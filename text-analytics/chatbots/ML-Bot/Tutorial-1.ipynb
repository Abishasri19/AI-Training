{
 "cells": [
  {
   "cell_type": "code",
   "execution_count": 2,
   "metadata": {
    "colab": {
     "base_uri": "https://localhost:8080/",
     "height": 1000
    },
    "id": "JaCzY6Lq-TdO",
    "outputId": "3d992c5c-b15e-49a4-8ae0-348951507004"
   },
   "outputs": [
    {
     "name": "stdout",
     "output_type": "stream",
     "text": [
      "Collecting rasa\n",
      "  Downloading rasa-3.2.7-py3-none-any.whl (819 kB)\n",
      "\u001b[K     |████████████████████████████████| 819 kB 3.8 MB/s eta 0:00:01\n",
      "\u001b[?25hCollecting jsonpickle<2.1,>=1.3\n",
      "  Downloading jsonpickle-2.0.0-py2.py3-none-any.whl (37 kB)\n",
      "Requirement already satisfied: psycopg2-binary<2.10.0,>=2.8.2 in /opt/anaconda3/lib/python3.9/site-packages (from rasa) (2.9.1)\n",
      "Collecting rocketchat_API<1.26.0,>=0.6.31\n",
      "  Downloading rocketchat_API-1.25.0-py3-none-any.whl (19 kB)\n",
      "Collecting rasa-sdk<3.3.0,>=3.2.0\n",
      "  Downloading rasa_sdk-3.2.1-py3-none-any.whl (41 kB)\n",
      "\u001b[K     |████████████████████████████████| 41 kB 186 kB/s  eta 0:00:01\n",
      "\u001b[?25hCollecting packaging<21.0,>=20.0\n",
      "  Downloading packaging-20.9-py2.py3-none-any.whl (40 kB)\n",
      "\u001b[K     |████████████████████████████████| 40 kB 10.6 MB/s eta 0:00:01\n",
      "\u001b[?25hCollecting typing-utils<0.2.0,>=0.1.0\n",
      "  Downloading typing_utils-0.1.0-py3-none-any.whl (10 kB)\n",
      "Collecting twilio<6.51,>=6.26\n",
      "  Downloading twilio-6.50.1.tar.gz (457 kB)\n",
      "\u001b[K     |████████████████████████████████| 457 kB 13.0 MB/s eta 0:00:01\n",
      "\u001b[?25hCollecting pymongo[srv,tls]<3.11,>=3.8\n",
      "  Downloading pymongo-3.10.1.tar.gz (715 kB)\n",
      "\u001b[K     |████████████████████████████████| 715 kB 14.4 MB/s eta 0:00:01\n",
      "\u001b[?25hCollecting terminaltables<3.2.0,>=3.1.0\n",
      "  Downloading terminaltables-3.1.10-py2.py3-none-any.whl (15 kB)\n",
      "Collecting cloudpickle<1.7,>=1.2\n",
      "  Using cached cloudpickle-1.6.0-py3-none-any.whl (23 kB)\n",
      "Collecting absl-py<0.14,>=0.9\n",
      "  Downloading absl_py-0.13.0-py3-none-any.whl (132 kB)\n",
      "\u001b[K     |████████████████████████████████| 132 kB 9.4 MB/s eta 0:00:01\n",
      "\u001b[?25hCollecting pyTelegramBotAPI<5.0.0,>=3.7.3\n",
      "  Downloading pyTelegramBotAPI-4.7.0.tar.gz (210 kB)\n",
      "\u001b[K     |████████████████████████████████| 210 kB 8.7 MB/s eta 0:00:01\n",
      "\u001b[?25hCollecting sanic-jwt<2.0.0,>=1.6.0\n",
      "  Downloading sanic_jwt-1.8.0-py3-none-any.whl (23 kB)\n",
      "Collecting networkx<2.7,>=2.4\n",
      "  Using cached networkx-2.6.3-py3-none-any.whl (1.9 MB)\n",
      "Collecting python-socketio<6,>=4.4\n",
      "  Downloading python_socketio-5.7.1-py3-none-any.whl (56 kB)\n",
      "\u001b[K     |████████████████████████████████| 56 kB 7.5 MB/s  eta 0:00:01\n",
      "\u001b[?25hCollecting coloredlogs<16,>=10\n",
      "  Downloading coloredlogs-15.0.1-py2.py3-none-any.whl (46 kB)\n",
      "\u001b[K     |████████████████████████████████| 46 kB 6.3 MB/s  eta 0:00:01\n",
      "\u001b[?25hRequirement already satisfied: pytz<2022.0,>=2019.1 in /opt/anaconda3/lib/python3.9/site-packages (from rasa) (2019.3)\n",
      "Collecting ruamel.yaml<0.17.0,>=0.16.5\n",
      "  Downloading ruamel.yaml-0.16.13-py2.py3-none-any.whl (111 kB)\n",
      "\u001b[K     |████████████████████████████████| 111 kB 4.1 MB/s eta 0:00:01\n",
      "\u001b[?25hRequirement already satisfied: jsonschema<4.5,>=3.2 in /opt/anaconda3/lib/python3.9/site-packages (from rasa) (3.2.0)\n",
      "Collecting CacheControl<0.13.0,>=0.12.9\n",
      "  Downloading CacheControl-0.12.11-py2.py3-none-any.whl (21 kB)\n",
      "Requirement already satisfied: ujson<6.0,>=1.35 in /opt/anaconda3/lib/python3.9/site-packages (from rasa) (5.1.0)\n",
      "Collecting apscheduler<3.8,>=3.6\n",
      "  Downloading APScheduler-3.7.0-py2.py3-none-any.whl (59 kB)\n",
      "\u001b[K     |████████████████████████████████| 59 kB 5.8 MB/s eta 0:00:011\n",
      "\u001b[?25hCollecting numpy<1.20.0,>=1.19.2\n",
      "  Downloading numpy-1.19.5-cp39-cp39-macosx_10_9_x86_64.whl (15.6 MB)\n",
      "\u001b[K     |████████████████████████████████| 15.6 MB 1.8 MB/s eta 0:00:01\n",
      "\u001b[?25hRequirement already satisfied: scipy<1.8.0,>=1.4.1 in /opt/anaconda3/lib/python3.9/site-packages (from rasa) (1.7.3)\n",
      "Collecting questionary<1.11.0,>=1.5.1\n",
      "  Downloading questionary-1.10.0-py3-none-any.whl (31 kB)\n",
      "Collecting sanic<21.13,>=21.12\n",
      "  Downloading sanic-21.12.2-py3-none-any.whl (156 kB)\n",
      "\u001b[K     |████████████████████████████████| 156 kB 1.4 MB/s eta 0:00:01\n",
      "\u001b[?25hCollecting aiohttp!=3.7.4.post0,<3.8,>=3.6\n",
      "  Downloading aiohttp-3.7.4-cp39-cp39-macosx_10_14_x86_64.whl (649 kB)\n",
      "\u001b[K     |████████████████████████████████| 649 kB 1.1 MB/s eta 0:00:01\n",
      "\u001b[?25hRequirement already satisfied: prompt-toolkit<3.0.29,>=3.0 in /opt/anaconda3/lib/python3.9/site-packages (from rasa) (3.0.20)\n",
      "Collecting tensorflow-addons<0.16.0,>=0.15.0\n",
      "  Downloading tensorflow_addons-0.15.0-cp39-cp39-macosx_10_13_x86_64.whl (581 kB)\n",
      "\u001b[K     |████████████████████████████████| 581 kB 385 kB/s eta 0:00:01\n",
      "\u001b[?25hCollecting webexteamssdk<1.7.0,>=1.1.1\n",
      "  Downloading webexteamssdk-1.6.1-py3-none-any.whl (113 kB)\n",
      "\u001b[K     |████████████████████████████████| 113 kB 1.4 MB/s eta 0:00:01\n",
      "\u001b[?25hCollecting sanic-routing<0.8.0,>=0.7.2\n",
      "  Downloading sanic_routing-0.7.2-py3-none-any.whl (23 kB)\n",
      "Collecting sanic-cors<2.1.0,>=2.0.0\n",
      "  Downloading Sanic_Cors-2.0.1-py2.py3-none-any.whl (17 kB)\n",
      "Requirement already satisfied: regex<2022.5,>=2020.6 in /opt/anaconda3/lib/python3.9/site-packages (from rasa) (2022.3.15)\n",
      "Collecting python-engineio!=5.0.0,<6,>=4\n",
      "  Downloading python_engineio-4.3.4-py3-none-any.whl (52 kB)\n",
      "\u001b[K     |████████████████████████████████| 52 kB 614 kB/s eta 0:00:01\n",
      "\u001b[?25hCollecting kafka-python<3.0,>=1.4\n",
      "  Downloading kafka_python-2.0.2-py2.py3-none-any.whl (246 kB)\n",
      "\u001b[K     |████████████████████████████████| 246 kB 1.0 MB/s eta 0:00:01\n",
      "\u001b[?25hCollecting pykwalify<1.9,>=1.7\n",
      "  Downloading pykwalify-1.8.0-py2.py3-none-any.whl (24 kB)\n",
      "Collecting slackclient<3.0.0,>=2.0.0\n",
      "  Downloading slackclient-2.9.4-py2.py3-none-any.whl (97 kB)\n",
      "\u001b[K     |████████████████████████████████| 97 kB 1.6 MB/s eta 0:00:01\n",
      "\u001b[?25hCollecting tensorflow-text<2.8.0,>=2.7.0\n",
      "  Downloading tensorflow_text-2.7.3-cp39-cp39-macosx_10_9_x86_64.whl (4.0 MB)\n",
      "\u001b[K     |████████████████████████████████| 4.0 MB 3.3 MB/s eta 0:00:01\n",
      "\u001b[?25hCollecting tensorflow_hub<0.13.0,>=0.12.0\n",
      "  Downloading tensorflow_hub-0.12.0-py2.py3-none-any.whl (108 kB)\n",
      "\u001b[K     |████████████████████████████████| 108 kB 4.5 MB/s eta 0:00:01\n",
      "\u001b[?25hRequirement already satisfied: tqdm<5.0,>=4.31 in /opt/anaconda3/lib/python3.9/site-packages (from rasa) (4.64.0)\n",
      "Collecting attrs<21.3,>=19.3\n",
      "  Downloading attrs-21.2.0-py2.py3-none-any.whl (53 kB)\n",
      "\u001b[K     |████████████████████████████████| 53 kB 4.5 MB/s eta 0:00:01\n",
      "\u001b[?25hCollecting randomname<0.2.0,>=0.1.5\n",
      "  Downloading randomname-0.1.5.tar.gz (36 kB)\n",
      "Requirement already satisfied: PyJWT[crypto]<3.0.0,>=2.0.0 in /opt/anaconda3/lib/python3.9/site-packages (from rasa) (2.1.0)\n",
      "Collecting redis<4.0,>=3.4\n",
      "  Using cached redis-3.5.3-py2.py3-none-any.whl (72 kB)\n",
      "Collecting typing-extensions<4.0.0,>=3.7.4\n",
      "  Downloading typing_extensions-3.10.0.2-py3-none-any.whl (26 kB)\n",
      "Collecting aio-pika<9.0.0,>=6.7.1\n",
      "  Downloading aio_pika-8.2.0-py3-none-any.whl (49 kB)\n",
      "\u001b[K     |████████████████████████████████| 49 kB 7.9 MB/s  eta 0:00:01\n",
      "\u001b[?25hCollecting colorhash<1.1.0,>=1.0.2\n",
      "  Downloading colorhash-1.0.4-py3-none-any.whl (5.5 kB)\n",
      "Requirement already satisfied: SQLAlchemy<1.5.0,>=1.4.0 in /opt/anaconda3/lib/python3.9/site-packages (from rasa) (1.4.32)\n",
      "Collecting scikit-learn<0.25,>=0.22\n",
      "  Downloading scikit_learn-0.24.2-cp39-cp39-macosx_10_13_x86_64.whl (7.3 MB)\n",
      "\u001b[K     |████████████████████████████████| 7.3 MB 3.6 MB/s eta 0:00:01\n",
      "\u001b[?25hCollecting tensorflow<2.8.0,>=2.7.0\n",
      "  Downloading tensorflow-2.7.3-cp39-cp39-macosx_10_11_x86_64.whl (213.1 MB)\n",
      "\u001b[K     |████████████████████████████████| 213.1 MB 17.4 MB/s eta 0:00:01    |█████▉                          | 38.7 MB 14.9 MB/s eta 0:00:12     |████████▏                       | 54.1 MB 11.4 MB/s eta 0:00:14     |██████████████▍                 | 96.1 MB 9.4 MB/s eta 0:00:13     |██████████████████████████████  | 199.7 MB 10.5 MB/s eta 0:00:02\n",
      "\u001b[?25hCollecting colorclass<2.3,>=2.2\n",
      "  Downloading colorclass-2.2.2-py2.py3-none-any.whl (18 kB)\n",
      "Collecting dask==2022.2.0\n",
      "  Downloading dask-2022.2.0-py3-none-any.whl (1.1 MB)\n",
      "\u001b[K     |████████████████████████████████| 1.1 MB 28.0 MB/s eta 0:00:01\n",
      "\u001b[?25hCollecting sklearn-crfsuite<0.4,>=0.3\n",
      "  Downloading sklearn_crfsuite-0.3.6-py2.py3-none-any.whl (12 kB)\n",
      "Collecting joblib<1.1.0,>=0.15.1\n",
      "  Downloading joblib-1.0.1-py3-none-any.whl (303 kB)\n",
      "\u001b[K     |████████████████████████████████| 303 kB 17.4 MB/s eta 0:00:01\n",
      "\u001b[?25hRequirement already satisfied: python-dateutil<2.9,>=2.8 in /opt/anaconda3/lib/python3.9/site-packages (from rasa) (2.8.1)\n",
      "Collecting tarsafe<0.0.4,>=0.0.3\n",
      "  Downloading tarsafe-0.0.3-py3-none-any.whl (5.0 kB)\n",
      "Collecting matplotlib<3.4,>=3.1\n",
      "  Downloading matplotlib-3.3.4-cp39-cp39-macosx_10_9_x86_64.whl (8.5 MB)\n"
     ]
    },
    {
     "name": "stdout",
     "output_type": "stream",
     "text": [
      "\u001b[K     |████████████████████████████████| 8.5 MB 13.4 MB/s eta 0:00:01\n",
      "\u001b[?25hCollecting mattermostwrapper<2.3,>=2.2\n",
      "  Downloading mattermostwrapper-2.2.tar.gz (2.5 kB)\n",
      "Requirement already satisfied: requests<3.0,>=2.23 in /opt/anaconda3/lib/python3.9/site-packages (from rasa) (2.27.1)\n",
      "Requirement already satisfied: setuptools>=41.0.0 in /opt/anaconda3/lib/python3.9/site-packages (from rasa) (61.2.0)\n",
      "Requirement already satisfied: google-auth<2 in /opt/anaconda3/lib/python3.9/site-packages (from rasa) (1.35.0)\n",
      "Requirement already satisfied: boto3<2.0,>=1.12 in /opt/anaconda3/lib/python3.9/site-packages (from rasa) (1.16.63)\n",
      "Collecting sentry-sdk<1.4.0,>=0.17.0\n",
      "  Downloading sentry_sdk-1.3.1-py2.py3-none-any.whl (133 kB)\n",
      "\u001b[K     |████████████████████████████████| 133 kB 24.0 MB/s eta 0:00:01\n",
      "\u001b[?25hCollecting fbmessenger<6.1.0,>=6.0.0\n",
      "  Downloading fbmessenger-6.0.0-py2.py3-none-any.whl (11 kB)\n",
      "Collecting pydot<1.5,>=1.4\n",
      "  Downloading pydot-1.4.2-py2.py3-none-any.whl (21 kB)\n",
      "Requirement already satisfied: partd>=0.3.10 in /opt/anaconda3/lib/python3.9/site-packages (from dask==2022.2.0->rasa) (1.2.0)\n",
      "Requirement already satisfied: pyyaml>=5.3.1 in /opt/anaconda3/lib/python3.9/site-packages (from dask==2022.2.0->rasa) (6.0)\n",
      "Requirement already satisfied: toolz>=0.8.2 in /opt/anaconda3/lib/python3.9/site-packages (from dask==2022.2.0->rasa) (0.11.2)\n",
      "Requirement already satisfied: fsspec>=0.6.0 in /opt/anaconda3/lib/python3.9/site-packages (from dask==2022.2.0->rasa) (2022.2.0)\n",
      "Requirement already satisfied: six in /opt/anaconda3/lib/python3.9/site-packages (from absl-py<0.14,>=0.9->rasa) (1.16.0)\n",
      "Collecting aiormq~=6.4.0\n",
      "  Downloading aiormq-6.4.1.tar.gz (30 kB)\n",
      "Requirement already satisfied: yarl in /opt/anaconda3/lib/python3.9/site-packages (from aio-pika<9.0.0,>=6.7.1->rasa) (1.6.3)\n",
      "Collecting async-timeout<4.0,>=3.0\n",
      "  Using cached async_timeout-3.0.1-py3-none-any.whl (8.2 kB)\n",
      "Requirement already satisfied: multidict<7.0,>=4.5 in /opt/anaconda3/lib/python3.9/site-packages (from aiohttp!=3.7.4.post0,<3.8,>=3.6->rasa) (5.2.0)\n",
      "Collecting chardet<4.0,>=2.0\n",
      "  Using cached chardet-3.0.4-py2.py3-none-any.whl (133 kB)\n",
      "Collecting pamqp==3.2.0\n",
      "  Downloading pamqp-3.2.0.tar.gz (30 kB)\n",
      "Collecting tzlocal~=2.0\n",
      "  Using cached tzlocal-2.1-py2.py3-none-any.whl (16 kB)\n",
      "Requirement already satisfied: jmespath<1.0.0,>=0.7.1 in /opt/anaconda3/lib/python3.9/site-packages (from boto3<2.0,>=1.12->rasa) (0.10.0)\n",
      "Requirement already satisfied: s3transfer<0.4.0,>=0.3.0 in /opt/anaconda3/lib/python3.9/site-packages (from boto3<2.0,>=1.12->rasa) (0.3.7)\n",
      "Requirement already satisfied: botocore<1.20.0,>=1.19.63 in /opt/anaconda3/lib/python3.9/site-packages (from boto3<2.0,>=1.12->rasa) (1.19.63)\n",
      "Requirement already satisfied: urllib3<1.27,>=1.25.4 in /opt/anaconda3/lib/python3.9/site-packages (from botocore<1.20.0,>=1.19.63->boto3<2.0,>=1.12->rasa) (1.26.11)\n",
      "Requirement already satisfied: msgpack>=0.5.2 in /opt/anaconda3/lib/python3.9/site-packages (from CacheControl<0.13.0,>=0.12.9->rasa) (1.0.2)\n",
      "Collecting humanfriendly>=9.1\n",
      "  Downloading humanfriendly-10.0-py2.py3-none-any.whl (86 kB)\n",
      "\u001b[K     |████████████████████████████████| 86 kB 13.3 MB/s eta 0:00:01\n",
      "\u001b[?25hRequirement already satisfied: cachetools<5.0,>=2.0.0 in /opt/anaconda3/lib/python3.9/site-packages (from google-auth<2->rasa) (4.2.2)\n",
      "Requirement already satisfied: pyasn1-modules>=0.2.1 in /opt/anaconda3/lib/python3.9/site-packages (from google-auth<2->rasa) (0.2.8)\n",
      "Requirement already satisfied: rsa<5,>=3.1.4 in /opt/anaconda3/lib/python3.9/site-packages (from google-auth<2->rasa) (4.7.2)\n",
      "Requirement already satisfied: pyrsistent>=0.14.0 in /opt/anaconda3/lib/python3.9/site-packages (from jsonschema<4.5,>=3.2->rasa) (0.18.0)\n",
      "Requirement already satisfied: pillow>=6.2.0 in /opt/anaconda3/lib/python3.9/site-packages (from matplotlib<3.4,>=3.1->rasa) (9.0.1)\n",
      "Requirement already satisfied: kiwisolver>=1.0.1 in /opt/anaconda3/lib/python3.9/site-packages (from matplotlib<3.4,>=3.1->rasa) (1.3.2)\n",
      "Requirement already satisfied: cycler>=0.10 in /opt/anaconda3/lib/python3.9/site-packages (from matplotlib<3.4,>=3.1->rasa) (0.11.0)\n",
      "Requirement already satisfied: pyparsing!=2.0.4,!=2.1.2,!=2.1.6,>=2.0.3 in /opt/anaconda3/lib/python3.9/site-packages (from matplotlib<3.4,>=3.1->rasa) (3.0.4)\n",
      "Requirement already satisfied: locket in /opt/anaconda3/lib/python3.9/site-packages (from partd>=0.3.10->dask==2022.2.0->rasa) (0.2.1)\n",
      "Requirement already satisfied: wcwidth in /opt/anaconda3/lib/python3.9/site-packages (from prompt-toolkit<3.0.29,>=3.0->rasa) (0.2.5)\n",
      "Requirement already satisfied: pyasn1<0.5.0,>=0.4.6 in /opt/anaconda3/lib/python3.9/site-packages (from pyasn1-modules>=0.2.1->google-auth<2->rasa) (0.4.8)\n",
      "Requirement already satisfied: cryptography<4.0.0,>=3.3.1 in /opt/anaconda3/lib/python3.9/site-packages (from PyJWT[crypto]<3.0.0,>=2.0.0->rasa) (3.4.8)\n",
      "Requirement already satisfied: cffi>=1.12 in /opt/anaconda3/lib/python3.9/site-packages (from cryptography<4.0.0,>=3.3.1->PyJWT[crypto]<3.0.0,>=2.0.0->rasa) (1.15.0)\n",
      "Requirement already satisfied: pycparser in /opt/anaconda3/lib/python3.9/site-packages (from cffi>=1.12->cryptography<4.0.0,>=3.3.1->PyJWT[crypto]<3.0.0,>=2.0.0->rasa) (2.21)\n",
      "Collecting docopt>=0.6.2\n",
      "  Using cached docopt-0.6.2.tar.gz (25 kB)\n",
      "Collecting dnspython<2.0.0,>=1.16.0\n",
      "  Downloading dnspython-1.16.0-py2.py3-none-any.whl (188 kB)\n",
      "\u001b[K     |████████████████████████████████| 188 kB 12.8 MB/s eta 0:00:01\n",
      "\u001b[?25hCollecting bidict>=0.21.0\n",
      "  Downloading bidict-0.22.0-py3-none-any.whl (36 kB)\n",
      "Collecting fire\n",
      "  Downloading fire-0.4.0.tar.gz (87 kB)\n",
      "\u001b[K     |████████████████████████████████| 87 kB 9.7 MB/s  eta 0:00:01\n",
      "\u001b[?25hRequirement already satisfied: charset-normalizer~=2.0.0 in /opt/anaconda3/lib/python3.9/site-packages (from requests<3.0,>=2.23->rasa) (2.0.4)\n",
      "Requirement already satisfied: certifi>=2017.4.17 in /opt/anaconda3/lib/python3.9/site-packages (from requests<3.0,>=2.23->rasa) (2021.10.8)\n",
      "Requirement already satisfied: idna<4,>=2.5 in /opt/anaconda3/lib/python3.9/site-packages (from requests<3.0,>=2.23->rasa) (3.3)\n",
      "Requirement already satisfied: ruamel.yaml.clib>=0.1.2 in /opt/anaconda3/lib/python3.9/site-packages (from ruamel.yaml<0.17.0,>=0.16.5->rasa) (0.2.6)\n",
      "Collecting httptools>=0.0.10\n",
      "  Downloading httptools-0.4.0-cp39-cp39-macosx_10_9_x86_64.whl (159 kB)\n",
      "\u001b[K     |████████████████████████████████| 159 kB 13.1 MB/s eta 0:00:01\n",
      "\u001b[?25hCollecting uvloop>=0.5.3\n",
      "  Downloading uvloop-0.16.0-cp39-cp39-macosx_10_9_x86_64.whl (1.5 MB)\n",
      "\u001b[K     |████████████████████████████████| 1.5 MB 22.1 MB/s eta 0:00:01\n",
      "\u001b[?25hCollecting websockets>=10.0\n",
      "  Downloading websockets-10.3-cp39-cp39-macosx_10_9_x86_64.whl (97 kB)\n",
      "\u001b[K     |████████████████████████████████| 97 kB 10.0 MB/s eta 0:00:01\n",
      "\u001b[?25hCollecting aiofiles>=0.6.0\n",
      "  Downloading aiofiles-0.8.0-py3-none-any.whl (13 kB)\n",
      "Requirement already satisfied: threadpoolctl>=2.0.0 in /opt/anaconda3/lib/python3.9/site-packages (from scikit-learn<0.25,>=0.22->rasa) (2.2.0)\n",
      "Collecting python-crfsuite>=0.8.3\n",
      "  Downloading python_crfsuite-0.9.8-cp39-cp39-macosx_10_9_x86_64.whl (181 kB)\n",
      "\u001b[K     |████████████████████████████████| 181 kB 14.6 MB/s eta 0:00:01\n",
      "\u001b[?25hRequirement already satisfied: tabulate in /opt/anaconda3/lib/python3.9/site-packages (from sklearn-crfsuite<0.4,>=0.3->rasa) (0.8.9)\n",
      "Requirement already satisfied: greenlet!=0.4.17 in /opt/anaconda3/lib/python3.9/site-packages (from SQLAlchemy<1.5.0,>=1.4.0->rasa) (1.1.1)\n",
      "Requirement already satisfied: wheel<1.0,>=0.32.0 in /opt/anaconda3/lib/python3.9/site-packages (from tensorflow<2.8.0,>=2.7.0->rasa) (0.37.1)\n",
      "Collecting opt-einsum>=2.3.2\n",
      "  Using cached opt_einsum-3.3.0-py3-none-any.whl (65 kB)\n",
      "Requirement already satisfied: grpcio<2.0,>=1.24.3 in /opt/anaconda3/lib/python3.9/site-packages (from tensorflow<2.8.0,>=2.7.0->rasa) (1.42.0)\n",
      "Collecting flatbuffers<3.0,>=1.12\n",
      "  Downloading flatbuffers-2.0.7-py2.py3-none-any.whl (26 kB)\n",
      "Collecting libclang>=9.0.1\n",
      "  Downloading libclang-14.0.6-py2.py3-none-macosx_10_9_x86_64.whl (13.2 MB)\n",
      "\u001b[K     |████████████████████████████████| 13.2 MB 13.7 MB/s eta 0:00:01\n",
      "\u001b[?25hCollecting tensorflow-estimator<2.8,~=2.7.0rc0\n",
      "  Downloading tensorflow_estimator-2.7.0-py2.py3-none-any.whl (463 kB)\n",
      "\u001b[K     |████████████████████████████████| 463 kB 19.8 MB/s eta 0:00:01\n"
     ]
    },
    {
     "name": "stdout",
     "output_type": "stream",
     "text": [
      "\u001b[?25hCollecting keras<2.8,>=2.7.0rc0\n",
      "  Downloading keras-2.7.0-py2.py3-none-any.whl (1.3 MB)\n",
      "\u001b[K     |████████████████████████████████| 1.3 MB 18.8 MB/s eta 0:00:01\n",
      "\u001b[?25hCollecting gast<0.5.0,>=0.2.1\n",
      "  Using cached gast-0.4.0-py3-none-any.whl (9.8 kB)\n",
      "Collecting astunparse>=1.6.0\n",
      "  Using cached astunparse-1.6.3-py2.py3-none-any.whl (12 kB)\n",
      "Collecting termcolor>=1.1.0\n",
      "  Using cached termcolor-1.1.0.tar.gz (3.9 kB)\n",
      "Requirement already satisfied: wrapt>=1.11.0 in /opt/anaconda3/lib/python3.9/site-packages (from tensorflow<2.8.0,>=2.7.0->rasa) (1.12.1)\n",
      "Requirement already satisfied: protobuf<3.20,>=3.9.2 in /opt/anaconda3/lib/python3.9/site-packages (from tensorflow<2.8.0,>=2.7.0->rasa) (3.19.1)\n",
      "Collecting keras-preprocessing>=1.1.1\n",
      "  Using cached Keras_Preprocessing-1.1.2-py2.py3-none-any.whl (42 kB)\n",
      "Requirement already satisfied: h5py>=2.9.0 in /opt/anaconda3/lib/python3.9/site-packages (from tensorflow<2.8.0,>=2.7.0->rasa) (3.6.0)\n",
      "Collecting tensorboard~=2.6\n",
      "  Downloading tensorboard-2.10.0-py3-none-any.whl (5.9 MB)\n",
      "\u001b[K     |████████████████████████████████| 5.9 MB 31.9 MB/s eta 0:00:01\n",
      "\u001b[?25hCollecting google-pasta>=0.1.1\n",
      "  Using cached google_pasta-0.2.0-py3-none-any.whl (57 kB)\n",
      "Collecting tensorflow-io-gcs-filesystem>=0.21.0\n",
      "  Downloading tensorflow_io_gcs_filesystem-0.26.0-cp39-cp39-macosx_10_14_x86_64.whl (1.6 MB)\n",
      "\u001b[K     |████████████████████████████████| 1.6 MB 29.2 MB/s eta 0:00:01\n",
      "\u001b[?25hCollecting tensorboard-plugin-wit>=1.6.0\n",
      "  Downloading tensorboard_plugin_wit-1.8.1-py3-none-any.whl (781 kB)\n",
      "\u001b[K     |████████████████████████████████| 781 kB 10.7 MB/s eta 0:00:01\n",
      "\u001b[?25hCollecting tensorboard-data-server<0.7.0,>=0.6.0\n",
      "  Downloading tensorboard_data_server-0.6.1-py3-none-macosx_10_9_x86_64.whl (3.5 MB)\n",
      "\u001b[K     |████████████████████████████████| 3.5 MB 15.9 MB/s eta 0:00:01\n",
      "\u001b[?25hRequirement already satisfied: werkzeug>=1.0.1 in /opt/anaconda3/lib/python3.9/site-packages (from tensorboard~=2.6->tensorflow<2.8.0,>=2.7.0->rasa) (2.0.3)\n",
      "Collecting google-auth-oauthlib<0.5,>=0.4.1\n",
      "  Downloading google_auth_oauthlib-0.4.6-py2.py3-none-any.whl (18 kB)\n",
      "Requirement already satisfied: markdown>=2.6.8 in /opt/anaconda3/lib/python3.9/site-packages (from tensorboard~=2.6->tensorflow<2.8.0,>=2.7.0->rasa) (3.3.4)\n",
      "Requirement already satisfied: requests-oauthlib>=0.7.0 in /opt/anaconda3/lib/python3.9/site-packages (from google-auth-oauthlib<0.5,>=0.4.1->tensorboard~=2.6->tensorflow<2.8.0,>=2.7.0->rasa) (1.3.1)\n",
      "Requirement already satisfied: oauthlib>=3.0.0 in /opt/anaconda3/lib/python3.9/site-packages (from requests-oauthlib>=0.7.0->google-auth-oauthlib<0.5,>=0.4.1->tensorboard~=2.6->tensorflow<2.8.0,>=2.7.0->rasa) (3.2.0)\n",
      "Collecting typeguard>=2.7\n",
      "  Downloading typeguard-2.13.3-py3-none-any.whl (17 kB)\n",
      "Collecting requests-toolbelt\n",
      "  Downloading requests_toolbelt-0.9.1-py2.py3-none-any.whl (54 kB)\n",
      "\u001b[K     |████████████████████████████████| 54 kB 8.2 MB/s  eta 0:00:01\n",
      "\u001b[?25hRequirement already satisfied: future in /opt/anaconda3/lib/python3.9/site-packages (from webexteamssdk<1.7.0,>=1.1.1->rasa) (0.18.2)\n",
      "Building wheels for collected packages: aiormq, pamqp, mattermostwrapper, docopt, pyTelegramBotAPI, randomname, termcolor, twilio, fire, pymongo\n",
      "  Building wheel for aiormq (setup.py) ... \u001b[?25ldone\n",
      "\u001b[?25h  Created wheel for aiormq: filename=aiormq-6.4.1-py3-none-any.whl size=34353 sha256=4cae3d60af52fe10ffe8ce058a03f4744d7d8ca1ff0355c728cd94ddb96da81c\n",
      "  Stored in directory: /Users/hbbg/Library/Caches/pip/wheels/eb/39/c5/a0543f57e5578015ab23f5b751fbe59b2635a1ba8c6b74b8c1\n",
      "  Building wheel for pamqp (setup.py) ... \u001b[?25ldone\n",
      "\u001b[?25h  Created wheel for pamqp: filename=pamqp-3.2.0-py3-none-any.whl size=33777 sha256=fc3406ec782c77916d4463e820b1d02bfdca18da05c80718dbe2346774755148\n",
      "  Stored in directory: /Users/hbbg/Library/Caches/pip/wheels/b5/7d/07/cad48ab0bc49f5d08ea5d5e1b585deaf842328ab4b2c827bc6\n",
      "  Building wheel for mattermostwrapper (setup.py) ... \u001b[?25ldone\n",
      "\u001b[?25h  Created wheel for mattermostwrapper: filename=mattermostwrapper-2.2-py3-none-any.whl size=2464 sha256=66764e5461e2f1f9293bf97bb5d05d2e8a234c2f7a2229232223084177bd837a\n",
      "  Stored in directory: /Users/hbbg/Library/Caches/pip/wheels/a1/0c/8d/2a8c86685b83e227bbf8ac97eca476f45b81de2ca7b5eb97ad\n",
      "  Building wheel for docopt (setup.py) ... \u001b[?25ldone\n",
      "\u001b[?25h  Created wheel for docopt: filename=docopt-0.6.2-py2.py3-none-any.whl size=13723 sha256=597dc3307e0faff77e6ad7f4f94fae18cd1a323a27ec2f5a36ba7ed2f575cd43\n",
      "  Stored in directory: /Users/hbbg/Library/Caches/pip/wheels/70/4a/46/1309fc853b8d395e60bafaf1b6df7845bdd82c95fd59dd8d2b\n",
      "  Building wheel for pyTelegramBotAPI (setup.py) ... \u001b[?25ldone\n",
      "\u001b[?25h  Created wheel for pyTelegramBotAPI: filename=pyTelegramBotAPI-4.7.0-py3-none-any.whl size=192826 sha256=8c73b88e26f50c024e3037fc7499f0c5778c49b1ac289fd5bb01fa45d91dd98d\n",
      "  Stored in directory: /Users/hbbg/Library/Caches/pip/wheels/ea/e5/c0/dbdf8cd2d1d5a7d89625cd1df21ff169c052f5ee1c8955136c\n",
      "  Building wheel for randomname (setup.py) ... \u001b[?25ldone\n",
      "\u001b[?25h  Created wheel for randomname: filename=randomname-0.1.5-py3-none-any.whl size=58823 sha256=17c189fe83f0829990e4663838e9ea1b14f0c1a9d72a3d7749a8a96472fbac0d\n",
      "  Stored in directory: /Users/hbbg/Library/Caches/pip/wheels/b3/1d/bc/4a7f077fd33bd14be2a75ddaf968c86c1e96cca81ba1ad68a0\n",
      "  Building wheel for termcolor (setup.py) ... \u001b[?25ldone\n",
      "\u001b[?25h  Created wheel for termcolor: filename=termcolor-1.1.0-py3-none-any.whl size=4848 sha256=221cc83491b31fc5fa08c149eb0a5cebce715c52646de0f83fddf2192b876258\n",
      "  Stored in directory: /Users/hbbg/Library/Caches/pip/wheels/b6/0d/90/0d1bbd99855f99cb2f6c2e5ff96f8023fad8ec367695f7d72d\n",
      "  Building wheel for twilio (setup.py) ... \u001b[?25ldone\n",
      "\u001b[?25h  Created wheel for twilio: filename=twilio-6.50.1-py2.py3-none-any.whl size=1208700 sha256=a5640dc085f98129481793caf23a472a29b647fce2eb76111c49794fc9ad495f\n",
      "  Stored in directory: /Users/hbbg/Library/Caches/pip/wheels/5b/51/2a/0c8b2c9fa0a1fdb47ac864c0fbc7d3378c621571f8796565c9\n",
      "  Building wheel for fire (setup.py) ... \u001b[?25ldone\n",
      "\u001b[?25h  Created wheel for fire: filename=fire-0.4.0-py2.py3-none-any.whl size=115942 sha256=0006b9d993bd70b178cbdac155e438526c1da436eeab9a2a8c2cff25655a05ad\n",
      "  Stored in directory: /Users/hbbg/Library/Caches/pip/wheels/2a/93/86/8cd17bc6c40fb605c3ac549d0b860ef7e84ee5f67bf01a3287\n",
      "  Building wheel for pymongo (setup.py) ... \u001b[?25ldone\n",
      "\u001b[?25h  Created wheel for pymongo: filename=pymongo-3.10.1-cp39-cp39-macosx_10_9_x86_64.whl size=348651 sha256=4c45ffa33c607fb70663852b30883476d2492e9e6d8e9c2034b214490288065a\n",
      "  Stored in directory: /Users/hbbg/Library/Caches/pip/wheels/8c/a6/78/a2b5a407b666d5261fd6a2138762da57a65e144dc3c7d2f7bd\n",
      "Successfully built aiormq pamqp mattermostwrapper docopt pyTelegramBotAPI randomname termcolor twilio fire pymongo\n",
      "Installing collected packages: websockets, uvloop, tensorboard-plugin-wit, tensorboard-data-server, sanic-routing, numpy, httptools, google-auth-oauthlib, aiofiles, absl-py, typing-extensions, termcolor, tensorflow-io-gcs-filesystem, tensorflow-estimator, tensorboard, sanic, pamqp, opt-einsum, libclang, keras-preprocessing, keras, humanfriendly, google-pasta, gast, flatbuffers, chardet, attrs, async-timeout, astunparse, tzlocal, typeguard, tensorflow-hub, tensorflow, sanic-cors, ruamel.yaml, requests-toolbelt, python-engineio, python-crfsuite, pymongo, packaging, joblib, fire, docopt, dnspython, coloredlogs, cloudpickle, bidict, aiormq, aiohttp, webexteamssdk, typing-utils, twilio, terminaltables, tensorflow-text, tensorflow-addons, tarsafe, slackclient, sklearn-crfsuite, sentry-sdk, scikit-learn, sanic-jwt, rocketchat-API, redis, rasa-sdk, randomname, questionary, python-socketio, pyTelegramBotAPI, pykwalify, pydot, networkx, mattermostwrapper, matplotlib, kafka-python, jsonpickle, fbmessenger, dask, colorhash, colorclass, CacheControl, apscheduler, aio-pika, rasa\n",
      "  Attempting uninstall: numpy\n",
      "    Found existing installation: numpy 1.21.5\n",
      "    Uninstalling numpy-1.21.5:\n",
      "      Successfully uninstalled numpy-1.21.5\n",
      "  Attempting uninstall: typing-extensions\n",
      "    Found existing installation: typing-extensions 4.1.1\n",
      "    Uninstalling typing-extensions-4.1.1:\n",
      "      Successfully uninstalled typing-extensions-4.1.1\n",
      "  Attempting uninstall: chardet\n",
      "    Found existing installation: chardet 4.0.0\n",
      "    Uninstalling chardet-4.0.0:\n",
      "      Successfully uninstalled chardet-4.0.0\n"
     ]
    },
    {
     "name": "stdout",
     "output_type": "stream",
     "text": [
      "  Attempting uninstall: attrs\n",
      "    Found existing installation: attrs 21.4.0\n",
      "    Uninstalling attrs-21.4.0:\n",
      "      Successfully uninstalled attrs-21.4.0\n",
      "  Attempting uninstall: async-timeout\n",
      "    Found existing installation: async-timeout 4.0.2\n",
      "    Uninstalling async-timeout-4.0.2:\n",
      "      Successfully uninstalled async-timeout-4.0.2\n",
      "  Attempting uninstall: tzlocal\n",
      "    Found existing installation: tzlocal 4.2\n",
      "    Uninstalling tzlocal-4.2:\n",
      "      Successfully uninstalled tzlocal-4.2\n",
      "  Attempting uninstall: ruamel.yaml\n",
      "    Found existing installation: ruamel.yaml 0.17.21\n",
      "    Uninstalling ruamel.yaml-0.17.21:\n",
      "      Successfully uninstalled ruamel.yaml-0.17.21\n",
      "  Attempting uninstall: packaging\n",
      "    Found existing installation: packaging 21.3\n",
      "    Uninstalling packaging-21.3:\n",
      "      Successfully uninstalled packaging-21.3\n",
      "  Attempting uninstall: joblib\n",
      "    Found existing installation: joblib 1.1.0\n",
      "    Uninstalling joblib-1.1.0:\n",
      "      Successfully uninstalled joblib-1.1.0\n",
      "  Attempting uninstall: cloudpickle\n",
      "    Found existing installation: cloudpickle 2.0.0\n",
      "    Uninstalling cloudpickle-2.0.0:\n",
      "      Successfully uninstalled cloudpickle-2.0.0\n",
      "  Attempting uninstall: aiohttp\n",
      "    Found existing installation: aiohttp 3.8.1\n",
      "    Uninstalling aiohttp-3.8.1:\n",
      "      Successfully uninstalled aiohttp-3.8.1\n",
      "  Attempting uninstall: sentry-sdk\n",
      "    Found existing installation: sentry-sdk 1.9.4\n",
      "    Uninstalling sentry-sdk-1.9.4:\n",
      "      Successfully uninstalled sentry-sdk-1.9.4\n",
      "  Attempting uninstall: scikit-learn\n",
      "    Found existing installation: scikit-learn 1.0.2\n",
      "    Uninstalling scikit-learn-1.0.2:\n",
      "      Successfully uninstalled scikit-learn-1.0.2\n",
      "  Attempting uninstall: redis\n",
      "    Found existing installation: redis 4.3.4\n",
      "    Uninstalling redis-4.3.4:\n",
      "      Successfully uninstalled redis-4.3.4\n",
      "  Attempting uninstall: networkx\n",
      "    Found existing installation: networkx 2.7.1\n",
      "    Uninstalling networkx-2.7.1:\n",
      "      Successfully uninstalled networkx-2.7.1\n",
      "  Attempting uninstall: matplotlib\n",
      "    Found existing installation: matplotlib 3.5.1\n",
      "    Uninstalling matplotlib-3.5.1:\n",
      "      Successfully uninstalled matplotlib-3.5.1\n",
      "  Attempting uninstall: jsonpickle\n",
      "    Found existing installation: jsonpickle 2.2.0\n",
      "    Uninstalling jsonpickle-2.2.0:\n",
      "      Successfully uninstalled jsonpickle-2.2.0\n",
      "  Attempting uninstall: dask\n",
      "    Found existing installation: dask 2022.2.1\n",
      "    Uninstalling dask-2022.2.1:\n",
      "      Successfully uninstalled dask-2022.2.1\n",
      "\u001b[31mERROR: pip's dependency resolver does not currently take into account all the packages that are installed. This behaviour is the source of the following dependency conflicts.\n",
      "spyder 5.1.5 requires pyqt5<5.13, which is not installed.\n",
      "spyder 5.1.5 requires pyqtwebengine<5.13, which is not installed.\n",
      "daal4py 2021.5.0 requires daal==2021.4.0, which is not installed.\n",
      "statsmodels 0.13.2 requires packaging>=21.3, but you have packaging 20.9 which is incompatible.\n",
      "distributed 2022.2.1 requires dask==2022.02.1, but you have dask 2022.2.0 which is incompatible.\n",
      "azure-core 1.25.0 requires typing-extensions>=4.0.1, but you have typing-extensions 3.10.0.2 which is incompatible.\n",
      "allennlp 2.1.0 requires spacy<3.1,>=2.1.0, but you have spacy 3.4.1 which is incompatible.\n",
      "mlloops 1.0.0 requires redis>=4.2.0, but you have redis 3.5.3 which is incompatible.\u001b[0m\n",
      "Successfully installed CacheControl-0.12.11 absl-py-0.13.0 aio-pika-8.2.0 aiofiles-0.8.0 aiohttp-3.7.4 aiormq-6.4.1 apscheduler-3.7.0 astunparse-1.6.3 async-timeout-3.0.1 attrs-21.2.0 bidict-0.22.0 chardet-3.0.4 cloudpickle-1.6.0 colorclass-2.2.2 coloredlogs-15.0.1 colorhash-1.0.4 dask-2022.2.0 dnspython-1.16.0 docopt-0.6.2 fbmessenger-6.0.0 fire-0.4.0 flatbuffers-2.0.7 gast-0.4.0 google-auth-oauthlib-0.4.6 google-pasta-0.2.0 httptools-0.4.0 humanfriendly-10.0 joblib-1.0.1 jsonpickle-2.0.0 kafka-python-2.0.2 keras-2.7.0 keras-preprocessing-1.1.2 libclang-14.0.6 matplotlib-3.3.4 mattermostwrapper-2.2 networkx-2.6.3 numpy-1.19.5 opt-einsum-3.3.0 packaging-20.9 pamqp-3.2.0 pyTelegramBotAPI-4.7.0 pydot-1.4.2 pykwalify-1.8.0 pymongo-3.10.1 python-crfsuite-0.9.8 python-engineio-4.3.4 python-socketio-5.7.1 questionary-1.10.0 randomname-0.1.5 rasa-3.2.7 rasa-sdk-3.2.1 redis-3.5.3 requests-toolbelt-0.9.1 rocketchat-API-1.25.0 ruamel.yaml-0.16.13 sanic-21.12.2 sanic-cors-2.0.1 sanic-jwt-1.8.0 sanic-routing-0.7.2 scikit-learn-0.24.2 sentry-sdk-1.3.1 sklearn-crfsuite-0.3.6 slackclient-2.9.4 tarsafe-0.0.3 tensorboard-2.10.0 tensorboard-data-server-0.6.1 tensorboard-plugin-wit-1.8.1 tensorflow-2.7.3 tensorflow-addons-0.15.0 tensorflow-estimator-2.7.0 tensorflow-hub-0.12.0 tensorflow-io-gcs-filesystem-0.26.0 tensorflow-text-2.7.3 termcolor-1.1.0 terminaltables-3.1.10 twilio-6.50.1 typeguard-2.13.3 typing-extensions-3.10.0.2 typing-utils-0.1.0 tzlocal-2.1 uvloop-0.16.0 webexteamssdk-1.6.1 websockets-10.3\n"
     ]
    }
   ],
   "source": [
    "!pip install rasa"
   ]
  },
  {
   "cell_type": "code",
   "execution_count": 3,
   "metadata": {
    "colab": {
     "base_uri": "https://localhost:8080/"
    },
    "id": "2gsEq3JZ-X2N",
    "outputId": "f1deee69-264d-421c-963b-f5a36f2679fc"
   },
   "outputs": [
    {
     "name": "stdout",
     "output_type": "stream",
     "text": [
      "Requirement already satisfied: tables in /opt/anaconda3/lib/python3.9/site-packages (3.6.1)\n",
      "Collecting tables\n",
      "  Downloading tables-3.7.0-cp39-cp39-macosx_10_9_x86_64.whl (6.0 MB)\n",
      "\u001b[K     |████████████████████████████████| 6.0 MB 340 kB/s eta 0:00:01\n",
      "\u001b[?25hRequirement already satisfied: numpy>=1.19.0 in /opt/anaconda3/lib/python3.9/site-packages (from tables) (1.19.5)\n",
      "Requirement already satisfied: packaging in /opt/anaconda3/lib/python3.9/site-packages (from tables) (20.9)\n",
      "Requirement already satisfied: numexpr>=2.6.2 in /opt/anaconda3/lib/python3.9/site-packages (from tables) (2.8.1)\n",
      "Requirement already satisfied: pyparsing>=2.0.2 in /opt/anaconda3/lib/python3.9/site-packages (from packaging->tables) (3.0.4)\n",
      "Installing collected packages: tables\n",
      "  Attempting uninstall: tables\n",
      "    Found existing installation: tables 3.6.1\n",
      "    Uninstalling tables-3.6.1:\n",
      "      Successfully uninstalled tables-3.6.1\n",
      "Successfully installed tables-3.7.0\n"
     ]
    }
   ],
   "source": [
    "!pip install -U tables"
   ]
  },
  {
   "cell_type": "code",
   "execution_count": 4,
   "metadata": {
    "colab": {
     "base_uri": "https://localhost:8080/",
     "height": 713
    },
    "id": "1QTG6dKM_GUN",
    "outputId": "b089d00b-4530-424e-c9b6-14592bc42625"
   },
   "outputs": [
    {
     "name": "stdout",
     "output_type": "stream",
     "text": [
      "Requirement already satisfied: ipython in /opt/anaconda3/lib/python3.9/site-packages (8.2.0)\n",
      "Collecting ipython\n",
      "  Downloading ipython-8.4.0-py3-none-any.whl (750 kB)\n",
      "\u001b[K     |████████████████████████████████| 750 kB 203 kB/s eta 0:00:01\n",
      "\u001b[?25hRequirement already satisfied: pexpect>4.3 in /opt/anaconda3/lib/python3.9/site-packages (from ipython) (4.8.0)\n",
      "Requirement already satisfied: matplotlib-inline in /opt/anaconda3/lib/python3.9/site-packages (from ipython) (0.1.2)\n",
      "Requirement already satisfied: pygments>=2.4.0 in /opt/anaconda3/lib/python3.9/site-packages (from ipython) (2.11.2)\n",
      "Requirement already satisfied: backcall in /opt/anaconda3/lib/python3.9/site-packages (from ipython) (0.2.0)\n",
      "Requirement already satisfied: prompt-toolkit!=3.0.0,!=3.0.1,<3.1.0,>=2.0.0 in /opt/anaconda3/lib/python3.9/site-packages (from ipython) (3.0.20)\n",
      "Requirement already satisfied: appnope in /opt/anaconda3/lib/python3.9/site-packages (from ipython) (0.1.2)\n",
      "Requirement already satisfied: traitlets>=5 in /opt/anaconda3/lib/python3.9/site-packages (from ipython) (5.1.1)\n",
      "Requirement already satisfied: jedi>=0.16 in /opt/anaconda3/lib/python3.9/site-packages (from ipython) (0.18.1)\n",
      "Requirement already satisfied: decorator in /opt/anaconda3/lib/python3.9/site-packages (from ipython) (5.1.1)\n",
      "Requirement already satisfied: setuptools>=18.5 in /opt/anaconda3/lib/python3.9/site-packages (from ipython) (61.2.0)\n",
      "Requirement already satisfied: pickleshare in /opt/anaconda3/lib/python3.9/site-packages (from ipython) (0.7.5)\n",
      "Requirement already satisfied: stack-data in /opt/anaconda3/lib/python3.9/site-packages (from ipython) (0.2.0)\n",
      "Requirement already satisfied: parso<0.9.0,>=0.8.0 in /opt/anaconda3/lib/python3.9/site-packages (from jedi>=0.16->ipython) (0.8.3)\n",
      "Requirement already satisfied: ptyprocess>=0.5 in /opt/anaconda3/lib/python3.9/site-packages (from pexpect>4.3->ipython) (0.7.0)\n",
      "Requirement already satisfied: wcwidth in /opt/anaconda3/lib/python3.9/site-packages (from prompt-toolkit!=3.0.0,!=3.0.1,<3.1.0,>=2.0.0->ipython) (0.2.5)\n",
      "Requirement already satisfied: asttokens in /opt/anaconda3/lib/python3.9/site-packages (from stack-data->ipython) (2.0.5)\n",
      "Requirement already satisfied: executing in /opt/anaconda3/lib/python3.9/site-packages (from stack-data->ipython) (0.8.3)\n",
      "Requirement already satisfied: pure-eval in /opt/anaconda3/lib/python3.9/site-packages (from stack-data->ipython) (0.2.2)\n",
      "Requirement already satisfied: six in /opt/anaconda3/lib/python3.9/site-packages (from asttokens->stack-data->ipython) (1.16.0)\n",
      "Installing collected packages: ipython\n",
      "  Attempting uninstall: ipython\n",
      "    Found existing installation: ipython 8.2.0\n",
      "    Uninstalling ipython-8.2.0:\n",
      "      Successfully uninstalled ipython-8.2.0\n",
      "\u001b[31mERROR: pip's dependency resolver does not currently take into account all the packages that are installed. This behaviour is the source of the following dependency conflicts.\n",
      "spyder 5.1.5 requires pyqt5<5.13, which is not installed.\n",
      "spyder 5.1.5 requires pyqtwebengine<5.13, which is not installed.\u001b[0m\n",
      "Successfully installed ipython-8.4.0\n"
     ]
    }
   ],
   "source": [
    "!pip install -U ipython"
   ]
  },
  {
   "cell_type": "code",
   "execution_count": 5,
   "metadata": {
    "colab": {
     "base_uri": "https://localhost:8080/"
    },
    "id": "SlhqD4dC_LcU",
    "outputId": "4efd8642-182b-4251-dd32-dbd46345d12d"
   },
   "outputs": [
    {
     "name": "stdout",
     "output_type": "stream",
     "text": [
      "\u001b[38;5;3m⚠ As of spaCy v3.0, shortcuts like 'en' are deprecated. Please use the\n",
      "full pipeline package name 'en_core_web_sm' instead.\u001b[0m\n",
      "Collecting en-core-web-sm==3.4.0\n",
      "  Downloading https://github.com/explosion/spacy-models/releases/download/en_core_web_sm-3.4.0/en_core_web_sm-3.4.0-py3-none-any.whl (12.8 MB)\n",
      "\u001b[K     |████████████████████████████████| 12.8 MB 2.3 MB/s eta 0:00:01\n",
      "\u001b[?25hRequirement already satisfied: spacy<3.5.0,>=3.4.0 in /opt/anaconda3/lib/python3.9/site-packages (from en-core-web-sm==3.4.0) (3.4.1)\n",
      "Requirement already satisfied: thinc<8.2.0,>=8.1.0 in /opt/anaconda3/lib/python3.9/site-packages (from spacy<3.5.0,>=3.4.0->en-core-web-sm==3.4.0) (8.1.0)\n",
      "Requirement already satisfied: pathy>=0.3.5 in /opt/anaconda3/lib/python3.9/site-packages (from spacy<3.5.0,>=3.4.0->en-core-web-sm==3.4.0) (0.6.2)\n",
      "Requirement already satisfied: langcodes<4.0.0,>=3.2.0 in /opt/anaconda3/lib/python3.9/site-packages (from spacy<3.5.0,>=3.4.0->en-core-web-sm==3.4.0) (3.3.0)\n",
      "Requirement already satisfied: spacy-legacy<3.1.0,>=3.0.9 in /opt/anaconda3/lib/python3.9/site-packages (from spacy<3.5.0,>=3.4.0->en-core-web-sm==3.4.0) (3.0.10)\n",
      "Requirement already satisfied: setuptools in /opt/anaconda3/lib/python3.9/site-packages (from spacy<3.5.0,>=3.4.0->en-core-web-sm==3.4.0) (61.2.0)\n",
      "Requirement already satisfied: wasabi<1.1.0,>=0.9.1 in /opt/anaconda3/lib/python3.9/site-packages (from spacy<3.5.0,>=3.4.0->en-core-web-sm==3.4.0) (0.10.1)\n",
      "Requirement already satisfied: pydantic!=1.8,!=1.8.1,<1.10.0,>=1.7.4 in /opt/anaconda3/lib/python3.9/site-packages (from spacy<3.5.0,>=3.4.0->en-core-web-sm==3.4.0) (1.8.2)\n",
      "Requirement already satisfied: preshed<3.1.0,>=3.0.2 in /opt/anaconda3/lib/python3.9/site-packages (from spacy<3.5.0,>=3.4.0->en-core-web-sm==3.4.0) (3.0.7)\n",
      "Requirement already satisfied: catalogue<2.1.0,>=2.0.6 in /opt/anaconda3/lib/python3.9/site-packages (from spacy<3.5.0,>=3.4.0->en-core-web-sm==3.4.0) (2.0.8)\n",
      "Requirement already satisfied: numpy>=1.15.0 in /opt/anaconda3/lib/python3.9/site-packages (from spacy<3.5.0,>=3.4.0->en-core-web-sm==3.4.0) (1.19.5)\n",
      "Requirement already satisfied: packaging>=20.0 in /opt/anaconda3/lib/python3.9/site-packages (from spacy<3.5.0,>=3.4.0->en-core-web-sm==3.4.0) (20.9)\n",
      "Requirement already satisfied: jinja2 in /opt/anaconda3/lib/python3.9/site-packages (from spacy<3.5.0,>=3.4.0->en-core-web-sm==3.4.0) (2.11.3)\n",
      "Requirement already satisfied: requests<3.0.0,>=2.13.0 in /opt/anaconda3/lib/python3.9/site-packages (from spacy<3.5.0,>=3.4.0->en-core-web-sm==3.4.0) (2.27.1)\n",
      "Requirement already satisfied: tqdm<5.0.0,>=4.38.0 in /opt/anaconda3/lib/python3.9/site-packages (from spacy<3.5.0,>=3.4.0->en-core-web-sm==3.4.0) (4.64.0)\n",
      "Requirement already satisfied: murmurhash<1.1.0,>=0.28.0 in /opt/anaconda3/lib/python3.9/site-packages (from spacy<3.5.0,>=3.4.0->en-core-web-sm==3.4.0) (1.0.8)\n",
      "Requirement already satisfied: cymem<2.1.0,>=2.0.2 in /opt/anaconda3/lib/python3.9/site-packages (from spacy<3.5.0,>=3.4.0->en-core-web-sm==3.4.0) (2.0.6)\n",
      "Requirement already satisfied: srsly<3.0.0,>=2.4.3 in /opt/anaconda3/lib/python3.9/site-packages (from spacy<3.5.0,>=3.4.0->en-core-web-sm==3.4.0) (2.4.4)\n",
      "Requirement already satisfied: spacy-loggers<2.0.0,>=1.0.0 in /opt/anaconda3/lib/python3.9/site-packages (from spacy<3.5.0,>=3.4.0->en-core-web-sm==3.4.0) (1.0.3)\n",
      "Requirement already satisfied: typer<0.5.0,>=0.3.0 in /opt/anaconda3/lib/python3.9/site-packages (from spacy<3.5.0,>=3.4.0->en-core-web-sm==3.4.0) (0.3.2)\n",
      "Requirement already satisfied: pyparsing>=2.0.2 in /opt/anaconda3/lib/python3.9/site-packages (from packaging>=20.0->spacy<3.5.0,>=3.4.0->en-core-web-sm==3.4.0) (3.0.4)\n",
      "Requirement already satisfied: smart-open<6.0.0,>=5.2.1 in /opt/anaconda3/lib/python3.9/site-packages (from pathy>=0.3.5->spacy<3.5.0,>=3.4.0->en-core-web-sm==3.4.0) (5.2.1)\n",
      "Requirement already satisfied: typing-extensions>=3.7.4.3 in /opt/anaconda3/lib/python3.9/site-packages (from pydantic!=1.8,!=1.8.1,<1.10.0,>=1.7.4->spacy<3.5.0,>=3.4.0->en-core-web-sm==3.4.0) (3.10.0.2)\n",
      "Requirement already satisfied: idna<4,>=2.5 in /opt/anaconda3/lib/python3.9/site-packages (from requests<3.0.0,>=2.13.0->spacy<3.5.0,>=3.4.0->en-core-web-sm==3.4.0) (3.3)\n",
      "Requirement already satisfied: certifi>=2017.4.17 in /opt/anaconda3/lib/python3.9/site-packages (from requests<3.0.0,>=2.13.0->spacy<3.5.0,>=3.4.0->en-core-web-sm==3.4.0) (2021.10.8)\n",
      "Requirement already satisfied: charset-normalizer~=2.0.0 in /opt/anaconda3/lib/python3.9/site-packages (from requests<3.0.0,>=2.13.0->spacy<3.5.0,>=3.4.0->en-core-web-sm==3.4.0) (2.0.4)\n",
      "Requirement already satisfied: urllib3<1.27,>=1.21.1 in /opt/anaconda3/lib/python3.9/site-packages (from requests<3.0.0,>=2.13.0->spacy<3.5.0,>=3.4.0->en-core-web-sm==3.4.0) (1.26.11)\n",
      "Requirement already satisfied: blis<0.8.0,>=0.7.8 in /opt/anaconda3/lib/python3.9/site-packages (from thinc<8.2.0,>=8.1.0->spacy<3.5.0,>=3.4.0->en-core-web-sm==3.4.0) (0.7.8)\n",
      "Requirement already satisfied: click<7.2.0,>=7.1.1 in /opt/anaconda3/lib/python3.9/site-packages (from typer<0.5.0,>=0.3.0->spacy<3.5.0,>=3.4.0->en-core-web-sm==3.4.0) (7.1.2)\n",
      "Requirement already satisfied: MarkupSafe>=0.23 in /opt/anaconda3/lib/python3.9/site-packages (from jinja2->spacy<3.5.0,>=3.4.0->en-core-web-sm==3.4.0) (2.0.1)\n",
      "\u001b[38;5;2m✔ Download and installation successful\u001b[0m\n",
      "You can now load the package via spacy.load('en_core_web_sm')\n"
     ]
    }
   ],
   "source": [
    "!python -m spacy download en"
   ]
  },
  {
   "cell_type": "code",
   "execution_count": 6,
   "metadata": {
    "colab": {
     "base_uri": "https://localhost:8080/"
    },
    "id": "hw5a6YzD_P8c",
    "outputId": "1474fdb2-fd47-454f-a7ae-5119059a8447"
   },
   "outputs": [
    {
     "name": "stdout",
     "output_type": "stream",
     "text": [
      "Requirement already satisfied: nest_asyncio in /opt/anaconda3/lib/python3.9/site-packages (1.5.5)\r\n"
     ]
    }
   ],
   "source": [
    "!pip install nest_asyncio"
   ]
  },
  {
   "cell_type": "code",
   "execution_count": 7,
   "metadata": {
    "colab": {
     "base_uri": "https://localhost:8080/"
    },
    "id": "9VZr0l6__Svj",
    "outputId": "b9af428a-f706-417f-adc0-834ae5f2020d"
   },
   "outputs": [
    {
     "name": "stdout",
     "output_type": "stream",
     "text": [
      "Event loop ready.\n"
     ]
    }
   ],
   "source": [
    "import os\n",
    "import rasa\n",
    "import nest_asyncio\n",
    "\n",
    "nest_asyncio.apply()\n",
    "print(\"Event loop ready.\")"
   ]
  },
  {
   "cell_type": "code",
   "execution_count": 8,
   "metadata": {
    "id": "PaBLw3Kp_db3"
   },
   "outputs": [],
   "source": [
    "from rasa.cli.scaffold import create_initial_project"
   ]
  },
  {
   "cell_type": "code",
   "execution_count": 9,
   "metadata": {
    "id": "-CqLRbPZ_ges"
   },
   "outputs": [],
   "source": [
    "project = \"test-project\"\n",
    "create_initial_project(project)"
   ]
  },
  {
   "cell_type": "code",
   "execution_count": 10,
   "metadata": {
    "colab": {
     "base_uri": "https://localhost:8080/"
    },
    "id": "SvTmQ81W_jm1",
    "outputId": "63ff7c55-201b-45f6-bb2d-f3ea36eee253"
   },
   "outputs": [
    {
     "name": "stdout",
     "output_type": "stream",
     "text": [
      "['tests', 'endpoints.yml', 'credentials.yml', 'actions', 'config.yml', 'domain.yml', 'data']\n"
     ]
    }
   ],
   "source": [
    "os.chdir(project)\n",
    "print(os.listdir(\".\"))"
   ]
  },
  {
   "cell_type": "code",
   "execution_count": 11,
   "metadata": {
    "colab": {
     "base_uri": "https://localhost:8080/"
    },
    "id": "JDs2m-RO_p08",
    "outputId": "04ae4df1-bae2-4759-9269-ce6fe56c26ea"
   },
   "outputs": [
    {
     "name": "stdout",
     "output_type": "stream",
     "text": [
      "config.yml data/ domain.yml models/\n"
     ]
    }
   ],
   "source": [
    "config = \"config.yml\"\n",
    "training_files = \"data/\"\n",
    "domain = \"domain.yml\"\n",
    "output = \"models/\"\n",
    "print(config, training_files, domain, output)"
   ]
  },
  {
   "cell_type": "code",
   "execution_count": 12,
   "metadata": {
    "colab": {
     "base_uri": "https://localhost:8080/"
    },
    "id": "WsFkEIwc_uFk",
    "outputId": "a662df92-cf26-4a78-faf6-c82265e5dae6"
   },
   "outputs": [
    {
     "name": "stdout",
     "output_type": "stream",
     "text": [
      "\u001b(0lqqqqqqqqqqqqqqqqqqqqqqqqqqqqqqqqqqqqqqqqqqqqqqqqqqqqqqqqqqqqqqqqqqqqqqqqqqqqqqqqk\u001b(B\n",
      "\u001b(0x\u001b(B Rasa Open Source reports anonymous usage telemetry to help improve the product \u001b(0x\u001b(B\n",
      "\u001b(0x\u001b(B for all its users.                                                             \u001b(0x\u001b(B\n",
      "\u001b(0x\u001b(B                                                                                \u001b(0x\u001b(B\n",
      "\u001b(0x\u001b(B If you'd like to opt-out, you can use `rasa telemetry disable`.                \u001b(0x\u001b(B\n",
      "\u001b(0x\u001b(B To learn more, check out https://rasa.com/docs/rasa/telemetry/telemetry.       \u001b(0x\u001b(B\n",
      "\u001b(0mqqqqqqqqqqqqqqqqqqqqqqqqqqqqqqqqqqqqqqqqqqqqqqqqqqqqqqqqqqqqqqqqqqqqqqqqqqqqqqqqj\u001b(B\n",
      "The configuration for policies and pipeline was chosen automatically. It was written into the config file at 'config.yml'.\n"
     ]
    },
    {
     "ename": "ContextualVersionConflict",
     "evalue": "(tzlocal 4.2 (/opt/anaconda3/lib/python3.9/site-packages), Requirement.parse('tzlocal~=2.0'), {'APScheduler'})",
     "output_type": "error",
     "traceback": [
      "\u001b[0;31m---------------------------------------------------------------------------\u001b[0m",
      "\u001b[0;31mContextualVersionConflict\u001b[0m                 Traceback (most recent call last)",
      "Input \u001b[0;32mIn [12]\u001b[0m, in \u001b[0;36m<cell line: 1>\u001b[0;34m()\u001b[0m\n\u001b[0;32m----> 1\u001b[0m model_path \u001b[38;5;241m=\u001b[39m \u001b[43mrasa\u001b[49m\u001b[38;5;241;43m.\u001b[39;49m\u001b[43mtrain\u001b[49m\u001b[43m(\u001b[49m\u001b[43mdomain\u001b[49m\u001b[43m,\u001b[49m\u001b[43m \u001b[49m\u001b[43mconfig\u001b[49m\u001b[43m,\u001b[49m\u001b[43m \u001b[49m\u001b[43m[\u001b[49m\u001b[43mtraining_files\u001b[49m\u001b[43m]\u001b[49m\u001b[43m,\u001b[49m\u001b[43m \u001b[49m\u001b[43moutput\u001b[49m\u001b[43m)\u001b[49m\n\u001b[1;32m      2\u001b[0m \u001b[38;5;28mprint\u001b[39m(model_path)\n",
      "File \u001b[0;32m/opt/anaconda3/lib/python3.9/site-packages/rasa/api.py:105\u001b[0m, in \u001b[0;36mtrain\u001b[0;34m(domain, config, training_files, output, dry_run, force_training, fixed_model_name, persist_nlu_training_data, core_additional_arguments, nlu_additional_arguments, model_to_finetune, finetuning_epoch_fraction)\u001b[0m\n\u001b[1;32m     79\u001b[0m \u001b[38;5;124;03m\"\"\"Runs Rasa Core and NLU training in `async` loop.\u001b[39;00m\n\u001b[1;32m     80\u001b[0m \n\u001b[1;32m     81\u001b[0m \u001b[38;5;124;03mArgs:\u001b[39;00m\n\u001b[0;32m   (...)\u001b[0m\n\u001b[1;32m    101\u001b[0m \u001b[38;5;124;03m    An instance of `TrainingResult`.\u001b[39;00m\n\u001b[1;32m    102\u001b[0m \u001b[38;5;124;03m\"\"\"\u001b[39;00m\n\u001b[1;32m    103\u001b[0m \u001b[38;5;28;01mfrom\u001b[39;00m \u001b[38;5;21;01mrasa\u001b[39;00m\u001b[38;5;21;01m.\u001b[39;00m\u001b[38;5;21;01mmodel_training\u001b[39;00m \u001b[38;5;28;01mimport\u001b[39;00m train\n\u001b[0;32m--> 105\u001b[0m \u001b[38;5;28;01mreturn\u001b[39;00m \u001b[43mtrain\u001b[49m\u001b[43m(\u001b[49m\n\u001b[1;32m    106\u001b[0m \u001b[43m    \u001b[49m\u001b[43mdomain\u001b[49m\u001b[38;5;241;43m=\u001b[39;49m\u001b[43mdomain\u001b[49m\u001b[43m,\u001b[49m\n\u001b[1;32m    107\u001b[0m \u001b[43m    \u001b[49m\u001b[43mconfig\u001b[49m\u001b[38;5;241;43m=\u001b[39;49m\u001b[43mconfig\u001b[49m\u001b[43m,\u001b[49m\n\u001b[1;32m    108\u001b[0m \u001b[43m    \u001b[49m\u001b[43mtraining_files\u001b[49m\u001b[38;5;241;43m=\u001b[39;49m\u001b[43mtraining_files\u001b[49m\u001b[43m,\u001b[49m\n\u001b[1;32m    109\u001b[0m \u001b[43m    \u001b[49m\u001b[43moutput\u001b[49m\u001b[38;5;241;43m=\u001b[39;49m\u001b[43moutput\u001b[49m\u001b[43m,\u001b[49m\n\u001b[1;32m    110\u001b[0m \u001b[43m    \u001b[49m\u001b[43mdry_run\u001b[49m\u001b[38;5;241;43m=\u001b[39;49m\u001b[43mdry_run\u001b[49m\u001b[43m,\u001b[49m\n\u001b[1;32m    111\u001b[0m \u001b[43m    \u001b[49m\u001b[43mforce_training\u001b[49m\u001b[38;5;241;43m=\u001b[39;49m\u001b[43mforce_training\u001b[49m\u001b[43m,\u001b[49m\n\u001b[1;32m    112\u001b[0m \u001b[43m    \u001b[49m\u001b[43mfixed_model_name\u001b[49m\u001b[38;5;241;43m=\u001b[39;49m\u001b[43mfixed_model_name\u001b[49m\u001b[43m,\u001b[49m\n\u001b[1;32m    113\u001b[0m \u001b[43m    \u001b[49m\u001b[43mpersist_nlu_training_data\u001b[49m\u001b[38;5;241;43m=\u001b[39;49m\u001b[43mpersist_nlu_training_data\u001b[49m\u001b[43m,\u001b[49m\n\u001b[1;32m    114\u001b[0m \u001b[43m    \u001b[49m\u001b[43mcore_additional_arguments\u001b[49m\u001b[38;5;241;43m=\u001b[39;49m\u001b[43mcore_additional_arguments\u001b[49m\u001b[43m,\u001b[49m\n\u001b[1;32m    115\u001b[0m \u001b[43m    \u001b[49m\u001b[43mnlu_additional_arguments\u001b[49m\u001b[38;5;241;43m=\u001b[39;49m\u001b[43mnlu_additional_arguments\u001b[49m\u001b[43m,\u001b[49m\n\u001b[1;32m    116\u001b[0m \u001b[43m    \u001b[49m\u001b[43mmodel_to_finetune\u001b[49m\u001b[38;5;241;43m=\u001b[39;49m\u001b[43mmodel_to_finetune\u001b[49m\u001b[43m,\u001b[49m\n\u001b[1;32m    117\u001b[0m \u001b[43m    \u001b[49m\u001b[43mfinetuning_epoch_fraction\u001b[49m\u001b[38;5;241;43m=\u001b[39;49m\u001b[43mfinetuning_epoch_fraction\u001b[49m\u001b[43m,\u001b[49m\n\u001b[1;32m    118\u001b[0m \u001b[43m\u001b[49m\u001b[43m)\u001b[49m\n",
      "File \u001b[0;32m/opt/anaconda3/lib/python3.9/site-packages/rasa/model_training.py:160\u001b[0m, in \u001b[0;36mtrain\u001b[0;34m(domain, config, training_files, output, dry_run, force_training, fixed_model_name, persist_nlu_training_data, core_additional_arguments, nlu_additional_arguments, model_to_finetune, finetuning_epoch_fraction)\u001b[0m\n\u001b[1;32m    157\u001b[0m     training_type \u001b[38;5;241m=\u001b[39m TrainingType\u001b[38;5;241m.\u001b[39mCORE\n\u001b[1;32m    159\u001b[0m \u001b[38;5;28;01mwith\u001b[39;00m telemetry\u001b[38;5;241m.\u001b[39mtrack_model_training(file_importer, model_type\u001b[38;5;241m=\u001b[39m\u001b[38;5;124m\"\u001b[39m\u001b[38;5;124mrasa\u001b[39m\u001b[38;5;124m\"\u001b[39m):\n\u001b[0;32m--> 160\u001b[0m     \u001b[38;5;28;01mreturn\u001b[39;00m \u001b[43m_train_graph\u001b[49m\u001b[43m(\u001b[49m\n\u001b[1;32m    161\u001b[0m \u001b[43m        \u001b[49m\u001b[43mfile_importer\u001b[49m\u001b[43m,\u001b[49m\n\u001b[1;32m    162\u001b[0m \u001b[43m        \u001b[49m\u001b[43mtraining_type\u001b[49m\u001b[38;5;241;43m=\u001b[39;49m\u001b[43mtraining_type\u001b[49m\u001b[43m,\u001b[49m\n\u001b[1;32m    163\u001b[0m \u001b[43m        \u001b[49m\u001b[43moutput_path\u001b[49m\u001b[38;5;241;43m=\u001b[39;49m\u001b[43moutput\u001b[49m\u001b[43m,\u001b[49m\n\u001b[1;32m    164\u001b[0m \u001b[43m        \u001b[49m\u001b[43mfixed_model_name\u001b[49m\u001b[38;5;241;43m=\u001b[39;49m\u001b[43mfixed_model_name\u001b[49m\u001b[43m,\u001b[49m\n\u001b[1;32m    165\u001b[0m \u001b[43m        \u001b[49m\u001b[43mmodel_to_finetune\u001b[49m\u001b[38;5;241;43m=\u001b[39;49m\u001b[43mmodel_to_finetune\u001b[49m\u001b[43m,\u001b[49m\n\u001b[1;32m    166\u001b[0m \u001b[43m        \u001b[49m\u001b[43mforce_full_training\u001b[49m\u001b[38;5;241;43m=\u001b[39;49m\u001b[43mforce_training\u001b[49m\u001b[43m,\u001b[49m\n\u001b[1;32m    167\u001b[0m \u001b[43m        \u001b[49m\u001b[43mpersist_nlu_training_data\u001b[49m\u001b[38;5;241;43m=\u001b[39;49m\u001b[43mpersist_nlu_training_data\u001b[49m\u001b[43m,\u001b[49m\n\u001b[1;32m    168\u001b[0m \u001b[43m        \u001b[49m\u001b[43mfinetuning_epoch_fraction\u001b[49m\u001b[38;5;241;43m=\u001b[39;49m\u001b[43mfinetuning_epoch_fraction\u001b[49m\u001b[43m,\u001b[49m\n\u001b[1;32m    169\u001b[0m \u001b[43m        \u001b[49m\u001b[43mdry_run\u001b[49m\u001b[38;5;241;43m=\u001b[39;49m\u001b[43mdry_run\u001b[49m\u001b[43m,\u001b[49m\n\u001b[1;32m    170\u001b[0m \u001b[43m        \u001b[49m\u001b[38;5;241;43m*\u001b[39;49m\u001b[38;5;241;43m*\u001b[39;49m\u001b[43m(\u001b[49m\u001b[43mcore_additional_arguments\u001b[49m\u001b[43m \u001b[49m\u001b[38;5;129;43;01mor\u001b[39;49;00m\u001b[43m \u001b[49m\u001b[43m{\u001b[49m\u001b[43m}\u001b[49m\u001b[43m)\u001b[49m\u001b[43m,\u001b[49m\n\u001b[1;32m    171\u001b[0m \u001b[43m        \u001b[49m\u001b[38;5;241;43m*\u001b[39;49m\u001b[38;5;241;43m*\u001b[39;49m\u001b[43m(\u001b[49m\u001b[43mnlu_additional_arguments\u001b[49m\u001b[43m \u001b[49m\u001b[38;5;129;43;01mor\u001b[39;49;00m\u001b[43m \u001b[49m\u001b[43m{\u001b[49m\u001b[43m}\u001b[49m\u001b[43m)\u001b[49m\u001b[43m,\u001b[49m\n\u001b[1;32m    172\u001b[0m \u001b[43m    \u001b[49m\u001b[43m)\u001b[49m\n",
      "File \u001b[0;32m/opt/anaconda3/lib/python3.9/site-packages/rasa/model_training.py:207\u001b[0m, in \u001b[0;36m_train_graph\u001b[0;34m(file_importer, training_type, output_path, fixed_model_name, model_to_finetune, force_full_training, dry_run, **kwargs)\u001b[0m\n\u001b[1;32m    201\u001b[0m recipe \u001b[38;5;241m=\u001b[39m Recipe\u001b[38;5;241m.\u001b[39mrecipe_for_name(config\u001b[38;5;241m.\u001b[39mget(\u001b[38;5;124m\"\u001b[39m\u001b[38;5;124mrecipe\u001b[39m\u001b[38;5;124m\"\u001b[39m))\n\u001b[1;32m    202\u001b[0m config, _missing_keys, _configured_keys \u001b[38;5;241m=\u001b[39m recipe\u001b[38;5;241m.\u001b[39mauto_configure(\n\u001b[1;32m    203\u001b[0m     file_importer\u001b[38;5;241m.\u001b[39mget_config_file_for_auto_config(),\n\u001b[1;32m    204\u001b[0m     config,\n\u001b[1;32m    205\u001b[0m     training_type,\n\u001b[1;32m    206\u001b[0m )\n\u001b[0;32m--> 207\u001b[0m model_configuration \u001b[38;5;241m=\u001b[39m \u001b[43mrecipe\u001b[49m\u001b[38;5;241;43m.\u001b[39;49m\u001b[43mgraph_config_for_recipe\u001b[49m\u001b[43m(\u001b[49m\n\u001b[1;32m    208\u001b[0m \u001b[43m    \u001b[49m\u001b[43mconfig\u001b[49m\u001b[43m,\u001b[49m\n\u001b[1;32m    209\u001b[0m \u001b[43m    \u001b[49m\u001b[43mkwargs\u001b[49m\u001b[43m,\u001b[49m\n\u001b[1;32m    210\u001b[0m \u001b[43m    \u001b[49m\u001b[43mtraining_type\u001b[49m\u001b[38;5;241;43m=\u001b[39;49m\u001b[43mtraining_type\u001b[49m\u001b[43m,\u001b[49m\n\u001b[1;32m    211\u001b[0m \u001b[43m    \u001b[49m\u001b[43mis_finetuning\u001b[49m\u001b[38;5;241;43m=\u001b[39;49m\u001b[43mis_finetuning\u001b[49m\u001b[43m,\u001b[49m\n\u001b[1;32m    212\u001b[0m \u001b[43m\u001b[49m\u001b[43m)\u001b[49m\n\u001b[1;32m    213\u001b[0m rasa\u001b[38;5;241m.\u001b[39mengine\u001b[38;5;241m.\u001b[39mvalidation\u001b[38;5;241m.\u001b[39mvalidate(model_configuration)\n\u001b[1;32m    215\u001b[0m \u001b[38;5;28;01mwith\u001b[39;00m tempfile\u001b[38;5;241m.\u001b[39mTemporaryDirectory() \u001b[38;5;28;01mas\u001b[39;00m temp_model_dir:\n",
      "File \u001b[0;32m/opt/anaconda3/lib/python3.9/site-packages/rasa/engine/recipes/default_recipe.py:212\u001b[0m, in \u001b[0;36mDefaultV1Recipe.graph_config_for_recipe\u001b[0;34m(self, config, cli_parameters, training_type, is_finetuning)\u001b[0m\n\u001b[1;32m    204\u001b[0m \u001b[38;5;28mself\u001b[39m\u001b[38;5;241m.\u001b[39m_use_end_to_end \u001b[38;5;241m=\u001b[39m (\n\u001b[1;32m    205\u001b[0m     \u001b[38;5;28mself\u001b[39m\u001b[38;5;241m.\u001b[39m_use_nlu\n\u001b[1;32m    206\u001b[0m     \u001b[38;5;129;01mand\u001b[39;00m \u001b[38;5;28mself\u001b[39m\u001b[38;5;241m.\u001b[39m_use_core\n\u001b[1;32m    207\u001b[0m     \u001b[38;5;129;01mand\u001b[39;00m training_type \u001b[38;5;241m==\u001b[39m TrainingType\u001b[38;5;241m.\u001b[39mEND_TO_END\n\u001b[1;32m    208\u001b[0m )\n\u001b[1;32m    210\u001b[0m \u001b[38;5;28mself\u001b[39m\u001b[38;5;241m.\u001b[39m_is_finetuning \u001b[38;5;241m=\u001b[39m is_finetuning\n\u001b[0;32m--> 212\u001b[0m train_nodes, preprocessors \u001b[38;5;241m=\u001b[39m \u001b[38;5;28;43mself\u001b[39;49m\u001b[38;5;241;43m.\u001b[39;49m\u001b[43m_create_train_nodes\u001b[49m\u001b[43m(\u001b[49m\u001b[43mconfig\u001b[49m\u001b[43m,\u001b[49m\u001b[43m \u001b[49m\u001b[43mcli_parameters\u001b[49m\u001b[43m)\u001b[49m\n\u001b[1;32m    213\u001b[0m predict_nodes \u001b[38;5;241m=\u001b[39m \u001b[38;5;28mself\u001b[39m\u001b[38;5;241m.\u001b[39m_create_predict_nodes(config, preprocessors, train_nodes)\n\u001b[1;32m    215\u001b[0m core_target \u001b[38;5;241m=\u001b[39m \u001b[38;5;124m\"\u001b[39m\u001b[38;5;124mselect_prediction\u001b[39m\u001b[38;5;124m\"\u001b[39m \u001b[38;5;28;01mif\u001b[39;00m \u001b[38;5;28mself\u001b[39m\u001b[38;5;241m.\u001b[39m_use_core \u001b[38;5;28;01melse\u001b[39;00m \u001b[38;5;28;01mNone\u001b[39;00m\n",
      "File \u001b[0;32m/opt/anaconda3/lib/python3.9/site-packages/rasa/engine/recipes/default_recipe.py:231\u001b[0m, in \u001b[0;36mDefaultV1Recipe._create_train_nodes\u001b[0;34m(self, config, cli_parameters)\u001b[0m\n\u001b[1;32m    228\u001b[0m \u001b[38;5;28;01mdef\u001b[39;00m \u001b[38;5;21m_create_train_nodes\u001b[39m(\n\u001b[1;32m    229\u001b[0m     \u001b[38;5;28mself\u001b[39m, config: Dict[Text, Any], cli_parameters: Dict[Text, Any]\n\u001b[1;32m    230\u001b[0m ) \u001b[38;5;241m-\u001b[39m\u001b[38;5;241m>\u001b[39m Tuple[Dict[Text, SchemaNode], List[Text]]:\n\u001b[0;32m--> 231\u001b[0m     \u001b[38;5;28;01mfrom\u001b[39;00m \u001b[38;5;21;01mrasa\u001b[39;00m\u001b[38;5;21;01m.\u001b[39;00m\u001b[38;5;21;01mgraph_components\u001b[39;00m\u001b[38;5;21;01m.\u001b[39;00m\u001b[38;5;21;01mvalidators\u001b[39;00m\u001b[38;5;21;01m.\u001b[39;00m\u001b[38;5;21;01mdefault_recipe_validator\u001b[39;00m \u001b[38;5;28;01mimport\u001b[39;00m (\n\u001b[1;32m    232\u001b[0m         DefaultV1RecipeValidator,\n\u001b[1;32m    233\u001b[0m     )\n\u001b[1;32m    234\u001b[0m     \u001b[38;5;28;01mfrom\u001b[39;00m \u001b[38;5;21;01mrasa\u001b[39;00m\u001b[38;5;21;01m.\u001b[39;00m\u001b[38;5;21;01mgraph_components\u001b[39;00m\u001b[38;5;21;01m.\u001b[39;00m\u001b[38;5;21;01mvalidators\u001b[39;00m\u001b[38;5;21;01m.\u001b[39;00m\u001b[38;5;21;01mfinetuning_validator\u001b[39;00m \u001b[38;5;28;01mimport\u001b[39;00m (\n\u001b[1;32m    235\u001b[0m         FinetuningValidator,\n\u001b[1;32m    236\u001b[0m     )\n\u001b[1;32m    238\u001b[0m     train_config \u001b[38;5;241m=\u001b[39m copy\u001b[38;5;241m.\u001b[39mdeepcopy(config)\n",
      "File \u001b[0;32m/opt/anaconda3/lib/python3.9/site-packages/rasa/graph_components/validators/default_recipe_validator.py:12\u001b[0m, in \u001b[0;36m<module>\u001b[0;34m\u001b[0m\n\u001b[1;32m     10\u001b[0m \u001b[38;5;28;01mfrom\u001b[39;00m \u001b[38;5;21;01mrasa\u001b[39;00m\u001b[38;5;21;01m.\u001b[39;00m\u001b[38;5;21;01mnlu\u001b[39;00m\u001b[38;5;21;01m.\u001b[39;00m\u001b[38;5;21;01mextractors\u001b[39;00m\u001b[38;5;21;01m.\u001b[39;00m\u001b[38;5;21;01mmitie_entity_extractor\u001b[39;00m \u001b[38;5;28;01mimport\u001b[39;00m MitieEntityExtractor\n\u001b[1;32m     11\u001b[0m \u001b[38;5;28;01mfrom\u001b[39;00m \u001b[38;5;21;01mrasa\u001b[39;00m\u001b[38;5;21;01m.\u001b[39;00m\u001b[38;5;21;01mnlu\u001b[39;00m\u001b[38;5;21;01m.\u001b[39;00m\u001b[38;5;21;01mextractors\u001b[39;00m\u001b[38;5;21;01m.\u001b[39;00m\u001b[38;5;21;01mregex_entity_extractor\u001b[39;00m \u001b[38;5;28;01mimport\u001b[39;00m RegexEntityExtractor\n\u001b[0;32m---> 12\u001b[0m \u001b[38;5;28;01mfrom\u001b[39;00m \u001b[38;5;21;01mrasa\u001b[39;00m\u001b[38;5;21;01m.\u001b[39;00m\u001b[38;5;21;01mnlu\u001b[39;00m\u001b[38;5;21;01m.\u001b[39;00m\u001b[38;5;21;01mextractors\u001b[39;00m\u001b[38;5;21;01m.\u001b[39;00m\u001b[38;5;21;01mcrf_entity_extractor\u001b[39;00m \u001b[38;5;28;01mimport\u001b[39;00m (\n\u001b[1;32m     13\u001b[0m     CRFEntityExtractor,\n\u001b[1;32m     14\u001b[0m     CRFEntityExtractorOptions,\n\u001b[1;32m     15\u001b[0m )\n\u001b[1;32m     16\u001b[0m \u001b[38;5;28;01mfrom\u001b[39;00m \u001b[38;5;21;01mrasa\u001b[39;00m\u001b[38;5;21;01m.\u001b[39;00m\u001b[38;5;21;01mnlu\u001b[39;00m\u001b[38;5;21;01m.\u001b[39;00m\u001b[38;5;21;01mextractors\u001b[39;00m\u001b[38;5;21;01m.\u001b[39;00m\u001b[38;5;21;01mentity_synonyms\u001b[39;00m \u001b[38;5;28;01mimport\u001b[39;00m EntitySynonymMapper\n\u001b[1;32m     17\u001b[0m \u001b[38;5;28;01mfrom\u001b[39;00m \u001b[38;5;21;01mrasa\u001b[39;00m\u001b[38;5;21;01m.\u001b[39;00m\u001b[38;5;21;01mnlu\u001b[39;00m\u001b[38;5;21;01m.\u001b[39;00m\u001b[38;5;21;01mfeaturizers\u001b[39;00m\u001b[38;5;21;01m.\u001b[39;00m\u001b[38;5;21;01msparse_featurizer\u001b[39;00m\u001b[38;5;21;01m.\u001b[39;00m\u001b[38;5;21;01mregex_featurizer\u001b[39;00m \u001b[38;5;28;01mimport\u001b[39;00m RegexFeaturizer\n",
      "File \u001b[0;32m/opt/anaconda3/lib/python3.9/site-packages/rasa/nlu/extractors/crf_entity_extractor.py:18\u001b[0m, in \u001b[0;36m<module>\u001b[0;34m\u001b[0m\n\u001b[1;32m     16\u001b[0m \u001b[38;5;28;01mfrom\u001b[39;00m \u001b[38;5;21;01mrasa\u001b[39;00m\u001b[38;5;21;01m.\u001b[39;00m\u001b[38;5;21;01mengine\u001b[39;00m\u001b[38;5;21;01m.\u001b[39;00m\u001b[38;5;21;01mstorage\u001b[39;00m\u001b[38;5;21;01m.\u001b[39;00m\u001b[38;5;21;01mresource\u001b[39;00m \u001b[38;5;28;01mimport\u001b[39;00m Resource\n\u001b[1;32m     17\u001b[0m \u001b[38;5;28;01mfrom\u001b[39;00m \u001b[38;5;21;01mrasa\u001b[39;00m\u001b[38;5;21;01m.\u001b[39;00m\u001b[38;5;21;01mengine\u001b[39;00m\u001b[38;5;21;01m.\u001b[39;00m\u001b[38;5;21;01mstorage\u001b[39;00m\u001b[38;5;21;01m.\u001b[39;00m\u001b[38;5;21;01mstorage\u001b[39;00m \u001b[38;5;28;01mimport\u001b[39;00m ModelStorage\n\u001b[0;32m---> 18\u001b[0m \u001b[38;5;28;01mfrom\u001b[39;00m \u001b[38;5;21;01mrasa\u001b[39;00m\u001b[38;5;21;01m.\u001b[39;00m\u001b[38;5;21;01mnlu\u001b[39;00m\u001b[38;5;21;01m.\u001b[39;00m\u001b[38;5;21;01mtest\u001b[39;00m \u001b[38;5;28;01mimport\u001b[39;00m determine_token_labels\n\u001b[1;32m     19\u001b[0m \u001b[38;5;28;01mfrom\u001b[39;00m \u001b[38;5;21;01mrasa\u001b[39;00m\u001b[38;5;21;01m.\u001b[39;00m\u001b[38;5;21;01mnlu\u001b[39;00m\u001b[38;5;21;01m.\u001b[39;00m\u001b[38;5;21;01mtokenizers\u001b[39;00m\u001b[38;5;21;01m.\u001b[39;00m\u001b[38;5;21;01mspacy_tokenizer\u001b[39;00m \u001b[38;5;28;01mimport\u001b[39;00m POS_TAG_KEY\n\u001b[1;32m     20\u001b[0m \u001b[38;5;28;01mfrom\u001b[39;00m \u001b[38;5;21;01mrasa\u001b[39;00m\u001b[38;5;21;01m.\u001b[39;00m\u001b[38;5;21;01mnlu\u001b[39;00m\u001b[38;5;21;01m.\u001b[39;00m\u001b[38;5;21;01mextractors\u001b[39;00m\u001b[38;5;21;01m.\u001b[39;00m\u001b[38;5;21;01mextractor\u001b[39;00m \u001b[38;5;28;01mimport\u001b[39;00m EntityExtractorMixin\n",
      "File \u001b[0;32m/opt/anaconda3/lib/python3.9/site-packages/rasa/nlu/test.py:26\u001b[0m, in \u001b[0;36m<module>\u001b[0;34m\u001b[0m\n\u001b[1;32m     10\u001b[0m \u001b[38;5;28;01mfrom\u001b[39;00m \u001b[38;5;21;01mtyping\u001b[39;00m \u001b[38;5;28;01mimport\u001b[39;00m (\n\u001b[1;32m     11\u001b[0m     Iterable,\n\u001b[1;32m     12\u001b[0m     Iterator,\n\u001b[0;32m   (...)\u001b[0m\n\u001b[1;32m     22\u001b[0m     TYPE_CHECKING,\n\u001b[1;32m     23\u001b[0m )\n\u001b[1;32m     25\u001b[0m \u001b[38;5;28;01mfrom\u001b[39;00m \u001b[38;5;21;01mrasa\u001b[39;00m \u001b[38;5;28;01mimport\u001b[39;00m telemetry\n\u001b[0;32m---> 26\u001b[0m \u001b[38;5;28;01mfrom\u001b[39;00m \u001b[38;5;21;01mrasa\u001b[39;00m\u001b[38;5;21;01m.\u001b[39;00m\u001b[38;5;21;01mcore\u001b[39;00m\u001b[38;5;21;01m.\u001b[39;00m\u001b[38;5;21;01magent\u001b[39;00m \u001b[38;5;28;01mimport\u001b[39;00m Agent\n\u001b[1;32m     27\u001b[0m \u001b[38;5;28;01mfrom\u001b[39;00m \u001b[38;5;21;01mrasa\u001b[39;00m\u001b[38;5;21;01m.\u001b[39;00m\u001b[38;5;21;01mcore\u001b[39;00m\u001b[38;5;21;01m.\u001b[39;00m\u001b[38;5;21;01mchannels\u001b[39;00m \u001b[38;5;28;01mimport\u001b[39;00m UserMessage\n\u001b[1;32m     28\u001b[0m \u001b[38;5;28;01mfrom\u001b[39;00m \u001b[38;5;21;01mrasa\u001b[39;00m\u001b[38;5;21;01m.\u001b[39;00m\u001b[38;5;21;01mcore\u001b[39;00m\u001b[38;5;21;01m.\u001b[39;00m\u001b[38;5;21;01mprocessor\u001b[39;00m \u001b[38;5;28;01mimport\u001b[39;00m MessageProcessor\n",
      "File \u001b[0;32m/opt/anaconda3/lib/python3.9/site-packages/rasa/core/agent.py:14\u001b[0m, in \u001b[0;36m<module>\u001b[0;34m\u001b[0m\n\u001b[1;32m     11\u001b[0m \u001b[38;5;28;01mimport\u001b[39;00m \u001b[38;5;21;01maiohttp\u001b[39;00m\n\u001b[1;32m     12\u001b[0m \u001b[38;5;28;01mfrom\u001b[39;00m \u001b[38;5;21;01maiohttp\u001b[39;00m \u001b[38;5;28;01mimport\u001b[39;00m ClientError\n\u001b[0;32m---> 14\u001b[0m \u001b[38;5;28;01mfrom\u001b[39;00m \u001b[38;5;21;01mrasa\u001b[39;00m\u001b[38;5;21;01m.\u001b[39;00m\u001b[38;5;21;01mcore\u001b[39;00m \u001b[38;5;28;01mimport\u001b[39;00m jobs\n\u001b[1;32m     15\u001b[0m \u001b[38;5;28;01mfrom\u001b[39;00m \u001b[38;5;21;01mrasa\u001b[39;00m\u001b[38;5;21;01m.\u001b[39;00m\u001b[38;5;21;01mcore\u001b[39;00m\u001b[38;5;21;01m.\u001b[39;00m\u001b[38;5;21;01mchannels\u001b[39;00m\u001b[38;5;21;01m.\u001b[39;00m\u001b[38;5;21;01mchannel\u001b[39;00m \u001b[38;5;28;01mimport\u001b[39;00m OutputChannel, UserMessage\n\u001b[1;32m     16\u001b[0m \u001b[38;5;28;01mfrom\u001b[39;00m \u001b[38;5;21;01mrasa\u001b[39;00m\u001b[38;5;21;01m.\u001b[39;00m\u001b[38;5;21;01mcore\u001b[39;00m\u001b[38;5;21;01m.\u001b[39;00m\u001b[38;5;21;01mconstants\u001b[39;00m \u001b[38;5;28;01mimport\u001b[39;00m DEFAULT_REQUEST_TIMEOUT\n",
      "File \u001b[0;32m/opt/anaconda3/lib/python3.9/site-packages/rasa/core/jobs.py:4\u001b[0m, in \u001b[0;36m<module>\u001b[0;34m\u001b[0m\n\u001b[1;32m      1\u001b[0m \u001b[38;5;28;01mimport\u001b[39;00m \u001b[38;5;21;01masyncio\u001b[39;00m\n\u001b[1;32m      2\u001b[0m \u001b[38;5;28;01mimport\u001b[39;00m \u001b[38;5;21;01mlogging\u001b[39;00m\n\u001b[0;32m----> 4\u001b[0m \u001b[38;5;28;01mfrom\u001b[39;00m \u001b[38;5;21;01mapscheduler\u001b[39;00m\u001b[38;5;21;01m.\u001b[39;00m\u001b[38;5;21;01mschedulers\u001b[39;00m\u001b[38;5;21;01m.\u001b[39;00m\u001b[38;5;21;01masyncio\u001b[39;00m \u001b[38;5;28;01mimport\u001b[39;00m AsyncIOScheduler\n\u001b[1;32m      5\u001b[0m \u001b[38;5;28;01mfrom\u001b[39;00m \u001b[38;5;21;01mpytz\u001b[39;00m \u001b[38;5;28;01mimport\u001b[39;00m UnknownTimeZoneError, utc\n\u001b[1;32m      6\u001b[0m \u001b[38;5;28;01mimport\u001b[39;00m \u001b[38;5;21;01mrasa\u001b[39;00m\u001b[38;5;21;01m.\u001b[39;00m\u001b[38;5;21;01mshared\u001b[39;00m\u001b[38;5;21;01m.\u001b[39;00m\u001b[38;5;21;01mutils\u001b[39;00m\u001b[38;5;21;01m.\u001b[39;00m\u001b[38;5;21;01mio\u001b[39;00m\n",
      "File \u001b[0;32m/opt/anaconda3/lib/python3.9/site-packages/apscheduler/__init__.py:4\u001b[0m, in \u001b[0;36m<module>\u001b[0;34m\u001b[0m\n\u001b[1;32m      1\u001b[0m \u001b[38;5;28;01mfrom\u001b[39;00m \u001b[38;5;21;01mpkg_resources\u001b[39;00m \u001b[38;5;28;01mimport\u001b[39;00m get_distribution, DistributionNotFound\n\u001b[1;32m      3\u001b[0m \u001b[38;5;28;01mtry\u001b[39;00m:\n\u001b[0;32m----> 4\u001b[0m     release \u001b[38;5;241m=\u001b[39m \u001b[43mget_distribution\u001b[49m\u001b[43m(\u001b[49m\u001b[38;5;124;43m'\u001b[39;49m\u001b[38;5;124;43mAPScheduler\u001b[39;49m\u001b[38;5;124;43m'\u001b[39;49m\u001b[43m)\u001b[49m\u001b[38;5;241m.\u001b[39mversion\u001b[38;5;241m.\u001b[39msplit(\u001b[38;5;124m'\u001b[39m\u001b[38;5;124m-\u001b[39m\u001b[38;5;124m'\u001b[39m)[\u001b[38;5;241m0\u001b[39m]\n\u001b[1;32m      5\u001b[0m \u001b[38;5;28;01mexcept\u001b[39;00m DistributionNotFound:\n\u001b[1;32m      6\u001b[0m     release \u001b[38;5;241m=\u001b[39m \u001b[38;5;124m'\u001b[39m\u001b[38;5;124m3.5.0\u001b[39m\u001b[38;5;124m'\u001b[39m\n",
      "File \u001b[0;32m/opt/anaconda3/lib/python3.9/site-packages/pkg_resources/__init__.py:477\u001b[0m, in \u001b[0;36mget_distribution\u001b[0;34m(dist)\u001b[0m\n\u001b[1;32m    475\u001b[0m     dist \u001b[38;5;241m=\u001b[39m Requirement\u001b[38;5;241m.\u001b[39mparse(dist)\n\u001b[1;32m    476\u001b[0m \u001b[38;5;28;01mif\u001b[39;00m \u001b[38;5;28misinstance\u001b[39m(dist, Requirement):\n\u001b[0;32m--> 477\u001b[0m     dist \u001b[38;5;241m=\u001b[39m \u001b[43mget_provider\u001b[49m\u001b[43m(\u001b[49m\u001b[43mdist\u001b[49m\u001b[43m)\u001b[49m\n\u001b[1;32m    478\u001b[0m \u001b[38;5;28;01mif\u001b[39;00m \u001b[38;5;129;01mnot\u001b[39;00m \u001b[38;5;28misinstance\u001b[39m(dist, Distribution):\n\u001b[1;32m    479\u001b[0m     \u001b[38;5;28;01mraise\u001b[39;00m \u001b[38;5;167;01mTypeError\u001b[39;00m(\u001b[38;5;124m\"\u001b[39m\u001b[38;5;124mExpected string, Requirement, or Distribution\u001b[39m\u001b[38;5;124m\"\u001b[39m, dist)\n",
      "File \u001b[0;32m/opt/anaconda3/lib/python3.9/site-packages/pkg_resources/__init__.py:353\u001b[0m, in \u001b[0;36mget_provider\u001b[0;34m(moduleOrReq)\u001b[0m\n\u001b[1;32m    351\u001b[0m \u001b[38;5;124;03m\"\"\"Return an IResourceProvider for the named module or requirement\"\"\"\u001b[39;00m\n\u001b[1;32m    352\u001b[0m \u001b[38;5;28;01mif\u001b[39;00m \u001b[38;5;28misinstance\u001b[39m(moduleOrReq, Requirement):\n\u001b[0;32m--> 353\u001b[0m     \u001b[38;5;28;01mreturn\u001b[39;00m working_set\u001b[38;5;241m.\u001b[39mfind(moduleOrReq) \u001b[38;5;129;01mor\u001b[39;00m \u001b[43mrequire\u001b[49m\u001b[43m(\u001b[49m\u001b[38;5;28;43mstr\u001b[39;49m\u001b[43m(\u001b[49m\u001b[43mmoduleOrReq\u001b[49m\u001b[43m)\u001b[49m\u001b[43m)\u001b[49m[\u001b[38;5;241m0\u001b[39m]\n\u001b[1;32m    354\u001b[0m \u001b[38;5;28;01mtry\u001b[39;00m:\n\u001b[1;32m    355\u001b[0m     module \u001b[38;5;241m=\u001b[39m sys\u001b[38;5;241m.\u001b[39mmodules[moduleOrReq]\n",
      "File \u001b[0;32m/opt/anaconda3/lib/python3.9/site-packages/pkg_resources/__init__.py:897\u001b[0m, in \u001b[0;36mWorkingSet.require\u001b[0;34m(self, *requirements)\u001b[0m\n\u001b[1;32m    888\u001b[0m \u001b[38;5;28;01mdef\u001b[39;00m \u001b[38;5;21mrequire\u001b[39m(\u001b[38;5;28mself\u001b[39m, \u001b[38;5;241m*\u001b[39mrequirements):\n\u001b[1;32m    889\u001b[0m     \u001b[38;5;124;03m\"\"\"Ensure that distributions matching `requirements` are activated\u001b[39;00m\n\u001b[1;32m    890\u001b[0m \n\u001b[1;32m    891\u001b[0m \u001b[38;5;124;03m    `requirements` must be a string or a (possibly-nested) sequence\u001b[39;00m\n\u001b[0;32m   (...)\u001b[0m\n\u001b[1;32m    895\u001b[0m \u001b[38;5;124;03m    included, even if they were already activated in this working set.\u001b[39;00m\n\u001b[1;32m    896\u001b[0m \u001b[38;5;124;03m    \"\"\"\u001b[39;00m\n\u001b[0;32m--> 897\u001b[0m     needed \u001b[38;5;241m=\u001b[39m \u001b[38;5;28;43mself\u001b[39;49m\u001b[38;5;241;43m.\u001b[39;49m\u001b[43mresolve\u001b[49m\u001b[43m(\u001b[49m\u001b[43mparse_requirements\u001b[49m\u001b[43m(\u001b[49m\u001b[43mrequirements\u001b[49m\u001b[43m)\u001b[49m\u001b[43m)\u001b[49m\n\u001b[1;32m    899\u001b[0m     \u001b[38;5;28;01mfor\u001b[39;00m dist \u001b[38;5;129;01min\u001b[39;00m needed:\n\u001b[1;32m    900\u001b[0m         \u001b[38;5;28mself\u001b[39m\u001b[38;5;241m.\u001b[39madd(dist)\n",
      "File \u001b[0;32m/opt/anaconda3/lib/python3.9/site-packages/pkg_resources/__init__.py:788\u001b[0m, in \u001b[0;36mWorkingSet.resolve\u001b[0;34m(self, requirements, env, installer, replace_conflicting, extras)\u001b[0m\n\u001b[1;32m    785\u001b[0m \u001b[38;5;28;01mif\u001b[39;00m dist \u001b[38;5;129;01mnot\u001b[39;00m \u001b[38;5;129;01min\u001b[39;00m req:\n\u001b[1;32m    786\u001b[0m     \u001b[38;5;66;03m# Oops, the \"best\" so far conflicts with a dependency\u001b[39;00m\n\u001b[1;32m    787\u001b[0m     dependent_req \u001b[38;5;241m=\u001b[39m required_by[req]\n\u001b[0;32m--> 788\u001b[0m     \u001b[38;5;28;01mraise\u001b[39;00m VersionConflict(dist, req)\u001b[38;5;241m.\u001b[39mwith_context(dependent_req)\n\u001b[1;32m    790\u001b[0m \u001b[38;5;66;03m# push the new requirements onto the stack\u001b[39;00m\n\u001b[1;32m    791\u001b[0m new_requirements \u001b[38;5;241m=\u001b[39m dist\u001b[38;5;241m.\u001b[39mrequires(req\u001b[38;5;241m.\u001b[39mextras)[::\u001b[38;5;241m-\u001b[39m\u001b[38;5;241m1\u001b[39m]\n",
      "\u001b[0;31mContextualVersionConflict\u001b[0m: (tzlocal 4.2 (/opt/anaconda3/lib/python3.9/site-packages), Requirement.parse('tzlocal~=2.0'), {'APScheduler'})"
     ]
    }
   ],
   "source": [
    "model_path = rasa.train(domain, config, [training_files], output)\n",
    "print(model_path)"
   ]
  },
  {
   "cell_type": "code",
   "execution_count": null,
   "metadata": {
    "colab": {
     "base_uri": "https://localhost:8080/",
     "height": 998
    },
    "id": "3E8XYkYn_2jU",
    "outputId": "cf582a6b-a41f-458d-de38-00e533a07aba"
   },
   "outputs": [],
   "source": [
    "from rasa.jupyter import chat\n",
    "\n",
    "endpoints = 'endpoints.yml'\n",
    "\n",
    "chat(model_path, endpoints)\n"
   ]
  }
 ],
 "metadata": {
  "colab": {
   "provenance": []
  },
  "kernelspec": {
   "display_name": "Python 3 (ipykernel)",
   "language": "python",
   "name": "python3"
  },
  "language_info": {
   "codemirror_mode": {
    "name": "ipython",
    "version": 3
   },
   "file_extension": ".py",
   "mimetype": "text/x-python",
   "name": "python",
   "nbconvert_exporter": "python",
   "pygments_lexer": "ipython3",
   "version": "3.9.12"
  }
 },
 "nbformat": 4,
 "nbformat_minor": 1
}
