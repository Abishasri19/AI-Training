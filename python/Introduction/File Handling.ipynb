{
 "cells": [
  {
   "cell_type": "markdown",
   "id": "fb034272",
   "metadata": {},
   "source": [
    "# FILE HANDLING\n",
    "\n",
    "## INTRODUCTION\n",
    "\n",
    "File handling is an important part of any web application.\n",
    "\n",
    "Python has several functions for creating, reading, updating, and deleting files.\n",
    "\n",
    "- The key function for working with files in Python is the open() function.\n",
    "\n",
    "- The open() function takes two parameters; filename, and mode.\n",
    "\n",
    "There are four different methods (modes) for opening a file:\n",
    "\n",
    "- \"r\" - Read - Default value. Opens a file for reading, error if the file does not exist\n",
    "\n",
    "- \"a\" - Append - Opens a file for appending, creates the file if it does not exist\n",
    "\n",
    "- \"w\" - Write - Opens a file for writing, creates the file if it does not exist\n",
    "\n",
    "- \"x\" - Create - Creates the specified file, returns an error if the file exists\n",
    "\n",
    "In addition you can specify if the file should be handled as binary or text mode\n",
    "\n",
    "- \"t\" - Text - Default value. Text mode\n",
    "\n",
    "- \"b\" - Binary - Binary mode (e.g. images)\n",
    "\n",
    "We use open () function in Python to open a file in read or write mode. To return a file object we use open() function along with two arguments, that accepts file name and the mode, whether to read or write. So, the syntax being: open(filename, mode). \n",
    "\n",
    "File Handling in Python\n",
    "Python also supports file handling and allows users to handle files i.e., to read and write files, along with many other file handling options, to operate on files. The concept of file handling has stretched over various other languages, but the implementation is either complicated or lengthy, but alike other concepts of Python, this concept here is also easy and short.\n",
    "\n",
    "## PROBLEM\n",
    "\n",
    "Writing to or reading data from a file requires manipulation of the file. So far, we've getting input from the console back to the console and interact with the user. Displaying data on the console may not be enough. The data displayed is very large and can be limited. \n",
    "\n",
    "The dataset can be viewed on the console. If the  memory is volatile, it is impossible to recover it programmatically and always generate data. However, if you need to do this, you can save it to a local file, volatile and always accessible system.\n",
    "## SOLUTION\n",
    "\n",
    "A file is an essential data item stored in one’s computer. Each file can be characterized with its filename & file extension. Various Python functions can handle the needs of file operations such as opening, reading, writing, and creating files. The following guide describes the basic and most necessary operations that can be very useful in file editing tasks. \n",
    "\n",
    "To perform a file operation, you must first open the file. Then follow the actions that the user must perform on the file. After performing all the required operations, you need to close the file. Closing a file is necessary as it would save the changes made on our file from the current session. \n",
    "\n",
    "## CONTENTS\n",
    "\n",
    "- Reading and Writing Text File\n",
    "   - Read Mode\n",
    "   - Write Mode\n",
    "   - With Command\n",
    "\n",
    "- Reading and Writing Audio File\n",
    "   - Soundfile library for Handling Audio Files\n",
    "   - Librosa Library for Handling Audio Files\n",
    "  \n",
    "- Reading and Writing an Image\n"
   ]
  },
  {
   "cell_type": "markdown",
   "id": "30fc9f22",
   "metadata": {},
   "source": [
    "### READING AND WRITING TEXT FILE "
   ]
  },
  {
   "cell_type": "code",
   "execution_count": 4,
   "id": "d8b92c9e",
   "metadata": {},
   "outputs": [
    {
     "name": "stdout",
     "output_type": "stream",
     "text": [
      "Hello ALL\n",
      "\n",
      "Welcome to RBG\n"
     ]
    }
   ],
   "source": [
    "## using open() method to open the file\n",
    "# a file named \"RBG\", will be opened with the reading mode.\n",
    "file = open('RBG.txt', 'r')\n",
    "# This will print every line one by one in the file\n",
    "for i in file:\n",
    "    print (i)"
   ]
  },
  {
   "cell_type": "markdown",
   "id": "70684035",
   "metadata": {},
   "source": [
    "#### READ MODE\n",
    "\n",
    "There is more than one way to read a file in Python. If you need to extract a string that contains all characters in the file then we can use file.read()."
   ]
  },
  {
   "cell_type": "code",
   "execution_count": 2,
   "id": "aa2a888f",
   "metadata": {},
   "outputs": [
    {
     "name": "stdout",
     "output_type": "stream",
     "text": [
      "Hello ALL\n",
      "Welcome to RBG\n"
     ]
    }
   ],
   "source": [
    "## Example code for read mode\n",
    "\n",
    "# Python code to illustrate read() mode\n",
    "file = open(\"RBG.txt\", \"r\") \n",
    "print (file.read())"
   ]
  },
  {
   "cell_type": "markdown",
   "id": "16d5417d",
   "metadata": {},
   "source": [
    "Another way to read a file is to call a certain number of characters like in the following code the interpreter will read the first five characters of stored data and return it as a string."
   ]
  },
  {
   "cell_type": "code",
   "execution_count": 3,
   "id": "e93e9896",
   "metadata": {},
   "outputs": [
    {
     "data": {
      "text/plain": [
       "'Hello'"
      ]
     },
     "execution_count": 3,
     "metadata": {},
     "output_type": "execute_result"
    }
   ],
   "source": [
    "# Python code to illustrate read() mode character wise\n",
    "file = open(\"RBG.txt\", \"r\")\n",
    "file.read(5)"
   ]
  },
  {
   "cell_type": "code",
   "execution_count": 1,
   "id": "8725f76e",
   "metadata": {},
   "outputs": [
    {
     "data": {
      "text/plain": [
       "['Hello ALL\\n', 'Welcome to RBG']"
      ]
     },
     "execution_count": 1,
     "metadata": {},
     "output_type": "execute_result"
    }
   ],
   "source": [
    "# Python code to illustrate readlines() \n",
    "file = open(\"RBG.txt\", \"r\")\n",
    "file.readlines() # you can also specify the particular line "
   ]
  },
  {
   "cell_type": "markdown",
   "id": "bc257b6f",
   "metadata": {},
   "source": [
    "#### WRITE MODE\n",
    "\n",
    "Creating a File using Write Mode"
   ]
  },
  {
   "cell_type": "code",
   "execution_count": 1,
   "id": "033499fe",
   "metadata": {},
   "outputs": [],
   "source": [
    "# Python code to create a file\n",
    "file = open('RBG.txt','w') # we can write the existing file or create an new file\n",
    "file.write(\"Hello ALL\")\n",
    "file.write(\"\\nWelcome to RBG\")\n",
    "file.close()\n",
    "\n",
    "# The close() command terminates all the resources in use and frees the system of this particular program."
   ]
  },
  {
   "cell_type": "markdown",
   "id": "dfa0ba04",
   "metadata": {},
   "source": [
    "#### WITH COMMAND\n",
    "\n",
    "In python with command is also used for file handling i.e. to read and write."
   ]
  },
  {
   "cell_type": "code",
   "execution_count": 11,
   "id": "c7922595",
   "metadata": {},
   "outputs": [],
   "source": [
    "# Example code to read file using 'with' command\n",
    "# Python code to illustrate with()\n",
    "with open(\"AISS.txt\") as file:  \n",
    "    text = file.read() # \"text\" is a variable name we are assigning to the 'AISS' file"
   ]
  },
  {
   "cell_type": "code",
   "execution_count": 12,
   "id": "2219c3e7",
   "metadata": {},
   "outputs": [],
   "source": [
    "# Example code to write file using 'with' command\n",
    "# Python code to illustrate with() alongwith write()\n",
    "with open(\"AISS.txt\", \"w\") as f:  # we can write the existing file or create a new file to write \n",
    "    f.write(\"Hello RBG!\") "
   ]
  },
  {
   "cell_type": "code",
   "execution_count": 13,
   "id": "8b95db5c",
   "metadata": {},
   "outputs": [],
   "source": [
    "with open(\"AISS.txt\", \"w\") as f:  # we can write the existing file or create a new file to write \n",
    "    f.write(\"Hello\") \n",
    "with open(\"AISS.txt\", 'a') as f: # we can also append the information in the file\n",
    "    f.write(\"\\nWelcome\")\n",
    "    f.write(\"\\nto RBG\")\n",
    "f.close()"
   ]
  },
  {
   "cell_type": "markdown",
   "id": "9b5da54c",
   "metadata": {},
   "source": [
    "### READING AND WRITING AUDIO FILES\n",
    "\n",
    "In python there are many modules for reading audio files like pydub, scipy, PyAudio, soundfile, etc.\n",
    "\n",
    "Here we will be using \"scipy\" to read and write audio file."
   ]
  },
  {
   "cell_type": "code",
   "execution_count": 14,
   "id": "41f78c18",
   "metadata": {},
   "outputs": [
    {
     "name": "stdout",
     "output_type": "stream",
     "text": [
      "Requirement already satisfied: scipy in /Users/brahmirathod/opt/anaconda3/lib/python3.9/site-packages (1.7.1)\r\n",
      "Requirement already satisfied: numpy<1.23.0,>=1.16.5 in /Users/brahmirathod/opt/anaconda3/lib/python3.9/site-packages (from scipy) (1.20.3)\r\n"
     ]
    }
   ],
   "source": [
    "# Installing scipy\n",
    "!pip install scipy"
   ]
  },
  {
   "cell_type": "code",
   "execution_count": 15,
   "id": "5defd029",
   "metadata": {},
   "outputs": [],
   "source": [
    "import numpy as np"
   ]
  },
  {
   "cell_type": "code",
   "execution_count": 16,
   "id": "d120560f",
   "metadata": {},
   "outputs": [
    {
     "name": "stdout",
     "output_type": "stream",
     "text": [
      "\n"
     ]
    }
   ],
   "source": [
    "# reading auduio file using scipy\n",
    "from scipy.io import wavfile\n",
    "data = wavfile.read('audio.wav')\n",
    "print()"
   ]
  },
  {
   "cell_type": "code",
   "execution_count": 17,
   "id": "b7771c64",
   "metadata": {},
   "outputs": [],
   "source": [
    "# writing audio file using scipy\n",
    "from scipy.io.wavfile import write\n",
    "samplerate = 44100; fs = 100\n",
    "t = np.linspace(0., 1., samplerate)\n",
    "amplitude = np.iinfo(np.int16).max\n",
    "data = amplitude * np.sin(2. * np.pi * fs * t)\n",
    "write(\"example.wav\", samplerate, data.astype(np.int16))"
   ]
  },
  {
   "cell_type": "markdown",
   "id": "e4896f8e",
   "metadata": {},
   "source": [
    "#### SOUNDLIFE LIBRARY FOR HANDLING AUDIO FILES "
   ]
  },
  {
   "cell_type": "code",
   "execution_count": 18,
   "id": "1c09c476",
   "metadata": {},
   "outputs": [
    {
     "name": "stdout",
     "output_type": "stream",
     "text": [
      "Collecting soundfile\n",
      "  Downloading SoundFile-0.10.3.post1-py2.py3.cp26.cp27.cp32.cp33.cp34.cp35.cp36.pp27.pp32.pp33-none-macosx_10_5_x86_64.macosx_10_6_intel.macosx_10_9_intel.macosx_10_9_x86_64.whl (613 kB)\n",
      "\u001b[K     |████████████████████████████████| 613 kB 6.0 MB/s eta 0:00:01\n",
      "\u001b[?25hRequirement already satisfied: cffi>=1.0 in /Users/brahmirathod/opt/anaconda3/lib/python3.9/site-packages (from soundfile) (1.14.6)\n",
      "Requirement already satisfied: pycparser in /Users/brahmirathod/opt/anaconda3/lib/python3.9/site-packages (from cffi>=1.0->soundfile) (2.20)\n",
      "Installing collected packages: soundfile\n",
      "Successfully installed soundfile-0.10.3.post1\n"
     ]
    }
   ],
   "source": [
    "# Install the loibrary\n",
    "! pip install soundfile"
   ]
  },
  {
   "cell_type": "code",
   "execution_count": 19,
   "id": "348aa5a1",
   "metadata": {},
   "outputs": [],
   "source": [
    "# import the library \n",
    "import soundfile as sf"
   ]
  },
  {
   "cell_type": "code",
   "execution_count": 20,
   "id": "ffbc567d",
   "metadata": {},
   "outputs": [],
   "source": [
    "# example program to demostarte reading and writting audio file using soundfile library\n",
    "\n",
    "data, samplerate = sf.read('audio.wav') # this will read the existing file\n",
    "sf.write('stereo_file.wav', np.random.randn(10, 2), 44100, 'PCM_24')# this will create a audio file "
   ]
  },
  {
   "cell_type": "markdown",
   "id": "0ab36044",
   "metadata": {},
   "source": [
    "#### LIBROSA LIBRARY FOR HANDLING AUDIO FILES"
   ]
  },
  {
   "cell_type": "code",
   "execution_count": null,
   "id": "78afee8c",
   "metadata": {},
   "outputs": [],
   "source": [
    "import librosa"
   ]
  },
  {
   "cell_type": "code",
   "execution_count": null,
   "id": "e31923c2",
   "metadata": {},
   "outputs": [],
   "source": [
    "# example program for loading the audio file using librosa library\n",
    "file = librosa.load('audio.wav')\n",
    "sr = librosa.get_samplerate('audio.wav')\n",
    "print(sr)"
   ]
  },
  {
   "cell_type": "markdown",
   "id": "f257ffb1",
   "metadata": {},
   "source": [
    "Usually in librosa we use \"librosa.output.write_wav\" to save the audio file but this function is deprecated in librosa 0.7.0. It will be removed in 0.8. Usage of write_wav should be replaced by soundfile.write."
   ]
  },
  {
   "cell_type": "code",
   "execution_count": null,
   "id": "1665ae8c",
   "metadata": {},
   "outputs": [],
   "source": [
    "# example program to write audio file using librosa \n",
    "file, sr = librosa.load(librosa.util.example_audio_file(),\n",
    "                     duration=5.0)  # this util.example_audio_file() is from librosa library itself\n",
    "sf.write('file_trim_5s.wav', file, sr)"
   ]
  },
  {
   "cell_type": "markdown",
   "id": "dd648d6f",
   "metadata": {},
   "source": [
    "### READING AND WRITING AN IMAGE\n",
    "\n",
    "Python also allows user to read and write image. Inorder to do so we need the particular library for reading and writing images.\n",
    "\n",
    "In python there are many modules used to read and write the image. Few most popular modeules are as follows\n",
    "1. opencv\n",
    "2. pil\n",
    "3. matplotlib"
   ]
  },
  {
   "cell_type": "code",
   "execution_count": 1,
   "id": "feb942c7",
   "metadata": {},
   "outputs": [
    {
     "data": {
      "text/plain": [
       "<matplotlib.image.AxesImage at 0x7fb1d1b3f2b0>"
      ]
     },
     "execution_count": 1,
     "metadata": {},
     "output_type": "execute_result"
    },
    {
     "data": {
      "image/png": "[encoded data removed]",
      "text/plain": [
       "<Figure size 432x288 with 1 Axes>"
      ]
     },
     "metadata": {
      "needs_background": "light"
     },
     "output_type": "display_data"
    }
   ],
   "source": [
    "# reading image using matplotlib\n",
    "# importing matplotlib modules\n",
    "import matplotlib.image as rbg\n",
    "import matplotlib.pyplot as plt\n",
    "  \n",
    "# Read Images\n",
    "img = rbg.imread('img.png')\n",
    "  \n",
    "# Output Images\n",
    "plt.imshow(img)"
   ]
  },
  {
   "cell_type": "code",
   "execution_count": 25,
   "id": "cb863e62",
   "metadata": {},
   "outputs": [
    {
     "name": "stdout",
     "output_type": "stream",
     "text": [
      "PNG\n",
      "P\n"
     ]
    }
   ],
   "source": [
    "# Python program to read\n",
    "# image using PIL module\n",
    "  \n",
    "# importing PIL\n",
    "from PIL import Image\n",
    "  \n",
    "# Read image\n",
    "img = Image.open('img.png')\n",
    "  \n",
    "# Output Images\n",
    "img.show()\n",
    "  \n",
    "# prints format of image\n",
    "print(img.format)\n",
    "  \n",
    "# prints mode of image\n",
    "print(img.mode)"
   ]
  },
  {
   "cell_type": "code",
   "execution_count": null,
   "id": "05f3bdc0",
   "metadata": {},
   "outputs": [],
   "source": [
    "# for opencv install package using below code\n",
    "!pip install opencv-python"
   ]
  },
  {
   "cell_type": "code",
   "execution_count": null,
   "id": "315c91dc",
   "metadata": {},
   "outputs": [],
   "source": [
    "## python program to read and write image using opencv-python\n",
    "\n",
    "# import the cv2 library\n",
    "import cv2\n",
    "# The function cv2.imread() is used to read an image.\n",
    "image = cv2.imread('img.png',0)\n",
    "\n",
    "# The function cv2.imshow() is used to display an image in a window.\n",
    "cv2.imshow('graycsale image',image)\n",
    "\n",
    "# waitKey() waits for a key press to close the window and 0 specifies indefinite loop\n",
    "cv2.waitKey(0)\n",
    "\n",
    "# cv2.destroyAllWindows() simply destroys all the windows we created.\n",
    "cv2.destroyAllWindows()\n",
    "\n",
    "# The function cv2.imwrite() is used to write an image.\n",
    "cv2.imwrite('grayscale.jpg',image)\n"
   ]
  }
 ],
 "metadata": {
  "kernelspec": {
   "display_name": "Python 3 (ipykernel)",
   "language": "python",
   "name": "python3"
  },
  "language_info": {
   "codemirror_mode": {
    "name": "ipython",
    "version": 3
   },
   "file_extension": ".py",
   "mimetype": "text/x-python",
   "name": "python",
   "nbconvert_exporter": "python",
   "pygments_lexer": "ipython3",
   "version": "3.9.7"
  }
 },
 "nbformat": 4,
 "nbformat_minor": 5
}
